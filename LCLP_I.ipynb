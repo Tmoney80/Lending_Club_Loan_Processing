{
 "cells": [
  {
   "cell_type": "markdown",
   "metadata": {},
   "source": [
    "<h1 style=\"text-align: center;\"> Lending Club Borrower Determination </h1>"
   ]
  },
  {
   "cell_type": "markdown",
   "metadata": {},
   "source": [
    "<img style=\"display: block;\n",
    "            margin-left: auto;\n",
    "            margin-right: auto;\n",
    "            width: 50%;\"\n",
    "     src=\"images/loan_img.jpg\" />\n",
    "\n",
    "#### Author: Tahron Herring"
   ]
  },
  {
   "cell_type": "markdown",
   "metadata": {},
   "source": [
    "## Overview"
   ]
  },
  {
   "cell_type": "markdown",
   "metadata": {},
   "source": [
    "<p style=\"text-align: left;\"> \n",
    "Lending Club, one of the world's largest peer-to-peer lending companies, is looking for ways to improve it's loan approval process.  Specifically the focus for this project will be to improve the borrower selection portion of the process by using machine learning models to better identify those borrowers who are more likely to repay their loans in full.\n",
    "</p>"
   ]
  },
  {
   "cell_type": "markdown",
   "metadata": {},
   "source": [
    "## Business Understanding"
   ]
  },
  {
   "cell_type": "markdown",
   "metadata": {},
   "source": []
  },
  {
   "cell_type": "markdown",
   "metadata": {},
   "source": [
    "## Data Understanding"
   ]
  },
  {
   "cell_type": "markdown",
   "metadata": {},
   "source": []
  },
  {
   "cell_type": "markdown",
   "metadata": {},
   "source": [
    "## Data Preperation & Analysis"
   ]
  },
  {
   "cell_type": "markdown",
   "metadata": {},
   "source": [
    "<p style=\"text-align: left;\"> \n",
    "To begin preping our data we'll first import the pandas library, load the full Lending Club dataset, and carve out an initial set of features that will be further pared down before we begin modeling.\n",
    "</p>"
   ]
  },
  {
   "cell_type": "code",
   "execution_count": 1,
   "metadata": {},
   "outputs": [],
   "source": [
    "import pandas as pd"
   ]
  },
  {
   "cell_type": "code",
   "execution_count": 2,
   "metadata": {},
   "outputs": [],
   "source": [
    "#Set path for original LC dataset\n",
    "file_path = 'Loan_status_2007-2020Q3.gzip'"
   ]
  },
  {
   "cell_type": "code",
   "execution_count": 3,
   "metadata": {},
   "outputs": [
    {
     "data": {
      "text/html": [
       "<div>\n",
       "<style scoped>\n",
       "    .dataframe tbody tr th:only-of-type {\n",
       "        vertical-align: middle;\n",
       "    }\n",
       "\n",
       "    .dataframe tbody tr th {\n",
       "        vertical-align: top;\n",
       "    }\n",
       "\n",
       "    .dataframe thead th {\n",
       "        text-align: right;\n",
       "    }\n",
       "</style>\n",
       "<table border=\"1\" class=\"dataframe\">\n",
       "  <thead>\n",
       "    <tr style=\"text-align: right;\">\n",
       "      <th></th>\n",
       "      <th>id</th>\n",
       "      <th>loan_amnt</th>\n",
       "      <th>funded_amnt</th>\n",
       "      <th>funded_amnt_inv</th>\n",
       "      <th>term</th>\n",
       "      <th>int_rate</th>\n",
       "      <th>installment</th>\n",
       "      <th>grade</th>\n",
       "      <th>sub_grade</th>\n",
       "      <th>emp_title</th>\n",
       "      <th>...</th>\n",
       "      <th>hardship_start_date</th>\n",
       "      <th>hardship_end_date</th>\n",
       "      <th>payment_plan_start_date</th>\n",
       "      <th>hardship_length</th>\n",
       "      <th>hardship_dpd</th>\n",
       "      <th>hardship_loan_status</th>\n",
       "      <th>orig_projected_additional_accrued_interest</th>\n",
       "      <th>hardship_payoff_balance_amount</th>\n",
       "      <th>hardship_last_payment_amount</th>\n",
       "      <th>debt_settlement_flag</th>\n",
       "    </tr>\n",
       "  </thead>\n",
       "  <tbody>\n",
       "    <tr>\n",
       "      <th>0</th>\n",
       "      <td>1077501</td>\n",
       "      <td>5000.0</td>\n",
       "      <td>5000.0</td>\n",
       "      <td>4975.0</td>\n",
       "      <td>36 months</td>\n",
       "      <td>10.65%</td>\n",
       "      <td>162.87</td>\n",
       "      <td>B</td>\n",
       "      <td>B2</td>\n",
       "      <td>NaN</td>\n",
       "      <td>...</td>\n",
       "      <td>NaN</td>\n",
       "      <td>NaN</td>\n",
       "      <td>NaN</td>\n",
       "      <td>NaN</td>\n",
       "      <td>NaN</td>\n",
       "      <td>NaN</td>\n",
       "      <td>NaN</td>\n",
       "      <td>NaN</td>\n",
       "      <td>NaN</td>\n",
       "      <td>N</td>\n",
       "    </tr>\n",
       "    <tr>\n",
       "      <th>1</th>\n",
       "      <td>1077430</td>\n",
       "      <td>2500.0</td>\n",
       "      <td>2500.0</td>\n",
       "      <td>2500.0</td>\n",
       "      <td>60 months</td>\n",
       "      <td>15.27%</td>\n",
       "      <td>59.83</td>\n",
       "      <td>C</td>\n",
       "      <td>C4</td>\n",
       "      <td>Ryder</td>\n",
       "      <td>...</td>\n",
       "      <td>NaN</td>\n",
       "      <td>NaN</td>\n",
       "      <td>NaN</td>\n",
       "      <td>NaN</td>\n",
       "      <td>NaN</td>\n",
       "      <td>NaN</td>\n",
       "      <td>NaN</td>\n",
       "      <td>NaN</td>\n",
       "      <td>NaN</td>\n",
       "      <td>N</td>\n",
       "    </tr>\n",
       "    <tr>\n",
       "      <th>2</th>\n",
       "      <td>1077175</td>\n",
       "      <td>2400.0</td>\n",
       "      <td>2400.0</td>\n",
       "      <td>2400.0</td>\n",
       "      <td>36 months</td>\n",
       "      <td>15.96%</td>\n",
       "      <td>84.33</td>\n",
       "      <td>C</td>\n",
       "      <td>C5</td>\n",
       "      <td>NaN</td>\n",
       "      <td>...</td>\n",
       "      <td>NaN</td>\n",
       "      <td>NaN</td>\n",
       "      <td>NaN</td>\n",
       "      <td>NaN</td>\n",
       "      <td>NaN</td>\n",
       "      <td>NaN</td>\n",
       "      <td>NaN</td>\n",
       "      <td>NaN</td>\n",
       "      <td>NaN</td>\n",
       "      <td>N</td>\n",
       "    </tr>\n",
       "    <tr>\n",
       "      <th>3</th>\n",
       "      <td>1076863</td>\n",
       "      <td>10000.0</td>\n",
       "      <td>10000.0</td>\n",
       "      <td>10000.0</td>\n",
       "      <td>36 months</td>\n",
       "      <td>13.49%</td>\n",
       "      <td>339.31</td>\n",
       "      <td>C</td>\n",
       "      <td>C1</td>\n",
       "      <td>AIR RESOURCES BOARD</td>\n",
       "      <td>...</td>\n",
       "      <td>NaN</td>\n",
       "      <td>NaN</td>\n",
       "      <td>NaN</td>\n",
       "      <td>NaN</td>\n",
       "      <td>NaN</td>\n",
       "      <td>NaN</td>\n",
       "      <td>NaN</td>\n",
       "      <td>NaN</td>\n",
       "      <td>NaN</td>\n",
       "      <td>N</td>\n",
       "    </tr>\n",
       "    <tr>\n",
       "      <th>4</th>\n",
       "      <td>1075358</td>\n",
       "      <td>3000.0</td>\n",
       "      <td>3000.0</td>\n",
       "      <td>3000.0</td>\n",
       "      <td>60 months</td>\n",
       "      <td>12.69%</td>\n",
       "      <td>67.79</td>\n",
       "      <td>B</td>\n",
       "      <td>B5</td>\n",
       "      <td>University Medical Group</td>\n",
       "      <td>...</td>\n",
       "      <td>NaN</td>\n",
       "      <td>NaN</td>\n",
       "      <td>NaN</td>\n",
       "      <td>NaN</td>\n",
       "      <td>NaN</td>\n",
       "      <td>NaN</td>\n",
       "      <td>NaN</td>\n",
       "      <td>NaN</td>\n",
       "      <td>NaN</td>\n",
       "      <td>N</td>\n",
       "    </tr>\n",
       "  </tbody>\n",
       "</table>\n",
       "<p>5 rows × 141 columns</p>\n",
       "</div>"
      ],
      "text/plain": [
       "        id  loan_amnt  funded_amnt  funded_amnt_inv        term int_rate  \\\n",
       "0  1077501     5000.0       5000.0           4975.0   36 months   10.65%   \n",
       "1  1077430     2500.0       2500.0           2500.0   60 months   15.27%   \n",
       "2  1077175     2400.0       2400.0           2400.0   36 months   15.96%   \n",
       "3  1076863    10000.0      10000.0          10000.0   36 months   13.49%   \n",
       "4  1075358     3000.0       3000.0           3000.0   60 months   12.69%   \n",
       "\n",
       "   installment grade sub_grade                 emp_title  ...  \\\n",
       "0       162.87     B        B2                       NaN  ...   \n",
       "1        59.83     C        C4                     Ryder  ...   \n",
       "2        84.33     C        C5                       NaN  ...   \n",
       "3       339.31     C        C1       AIR RESOURCES BOARD  ...   \n",
       "4        67.79     B        B5  University Medical Group  ...   \n",
       "\n",
       "  hardship_start_date hardship_end_date  payment_plan_start_date  \\\n",
       "0                 NaN               NaN                      NaN   \n",
       "1                 NaN               NaN                      NaN   \n",
       "2                 NaN               NaN                      NaN   \n",
       "3                 NaN               NaN                      NaN   \n",
       "4                 NaN               NaN                      NaN   \n",
       "\n",
       "  hardship_length hardship_dpd hardship_loan_status  \\\n",
       "0             NaN          NaN                  NaN   \n",
       "1             NaN          NaN                  NaN   \n",
       "2             NaN          NaN                  NaN   \n",
       "3             NaN          NaN                  NaN   \n",
       "4             NaN          NaN                  NaN   \n",
       "\n",
       "  orig_projected_additional_accrued_interest hardship_payoff_balance_amount  \\\n",
       "0                                        NaN                            NaN   \n",
       "1                                        NaN                            NaN   \n",
       "2                                        NaN                            NaN   \n",
       "3                                        NaN                            NaN   \n",
       "4                                        NaN                            NaN   \n",
       "\n",
       "  hardship_last_payment_amount debt_settlement_flag  \n",
       "0                          NaN                    N  \n",
       "1                          NaN                    N  \n",
       "2                          NaN                    N  \n",
       "3                          NaN                    N  \n",
       "4                          NaN                    N  \n",
       "\n",
       "[5 rows x 141 columns]"
      ]
     },
     "execution_count": 3,
     "metadata": {},
     "output_type": "execute_result"
    }
   ],
   "source": [
    "#Load in LC dataset\n",
    "loans = pd.read_csv(file_path, nrows=50000, low_memory=False, index_col=0)\n",
    "loans.head()"
   ]
  },
  {
   "cell_type": "markdown",
   "metadata": {},
   "source": [
    "<p style=\"text-align: left;\"> \n",
    "Now that the full dataset is loaded we can get a better sense of the features in order to determine which ones will be retained.\n",
    "</p>"
   ]
  },
  {
   "cell_type": "code",
   "execution_count": 4,
   "metadata": {},
   "outputs": [
    {
     "name": "stdout",
     "output_type": "stream",
     "text": [
      "<class 'pandas.core.frame.DataFrame'>\n",
      "Int64Index: 50000 entries, 0 to 7463\n",
      "Data columns (total 141 columns):\n",
      " #   Column                                      Non-Null Count  Dtype  \n",
      "---  ------                                      --------------  -----  \n",
      " 0   id                                          50000 non-null  object \n",
      " 1   loan_amnt                                   49999 non-null  float64\n",
      " 2   funded_amnt                                 49999 non-null  float64\n",
      " 3   funded_amnt_inv                             49999 non-null  float64\n",
      " 4   term                                        49999 non-null  object \n",
      " 5   int_rate                                    49999 non-null  object \n",
      " 6   installment                                 49999 non-null  float64\n",
      " 7   grade                                       49999 non-null  object \n",
      " 8   sub_grade                                   49999 non-null  object \n",
      " 9   emp_title                                   46913 non-null  object \n",
      " 10  emp_length                                  48559 non-null  object \n",
      " 11  home_ownership                              49999 non-null  object \n",
      " 12  annual_inc                                  49995 non-null  float64\n",
      " 13  verification_status                         49999 non-null  object \n",
      " 14  issue_d                                     49999 non-null  object \n",
      " 15  loan_status                                 49999 non-null  object \n",
      " 16  pymnt_plan                                  49999 non-null  object \n",
      " 17  url                                         49999 non-null  object \n",
      " 18  purpose                                     49999 non-null  object \n",
      " 19  title                                       49986 non-null  object \n",
      " 20  zip_code                                    49999 non-null  object \n",
      " 21  addr_state                                  49999 non-null  object \n",
      " 22  dti                                         49999 non-null  float64\n",
      " 23  delinq_2yrs                                 49970 non-null  float64\n",
      " 24  earliest_cr_line                            49970 non-null  object \n",
      " 25  fico_range_low                              49999 non-null  float64\n",
      " 26  fico_range_high                             49999 non-null  float64\n",
      " 27  inq_last_6mths                              49970 non-null  float64\n",
      " 28  mths_since_last_delinq                      19176 non-null  float64\n",
      " 29  mths_since_last_record                      4706 non-null   float64\n",
      " 30  open_acc                                    49970 non-null  float64\n",
      " 31  pub_rec                                     49970 non-null  float64\n",
      " 32  revol_bal                                   49999 non-null  float64\n",
      " 33  revol_util                                  49905 non-null  object \n",
      " 34  total_acc                                   49970 non-null  float64\n",
      " 35  initial_list_status                         49999 non-null  object \n",
      " 36  out_prncp                                   49999 non-null  float64\n",
      " 37  out_prncp_inv                               49999 non-null  float64\n",
      " 38  total_pymnt                                 49999 non-null  float64\n",
      " 39  total_pymnt_inv                             49999 non-null  float64\n",
      " 40  total_rec_prncp                             49999 non-null  float64\n",
      " 41  total_rec_int                               49999 non-null  float64\n",
      " 42  total_rec_late_fee                          49999 non-null  float64\n",
      " 43  recoveries                                  49999 non-null  float64\n",
      " 44  collection_recovery_fee                     49999 non-null  float64\n",
      " 45  last_pymnt_d                                49913 non-null  object \n",
      " 46  last_pymnt_amnt                             49999 non-null  float64\n",
      " 47  next_pymnt_d                                2749 non-null   object \n",
      " 48  last_credit_pull_d                          49995 non-null  object \n",
      " 49  last_fico_range_high                        49999 non-null  float64\n",
      " 50  last_fico_range_low                         49999 non-null  float64\n",
      " 51  collections_12_mths_ex_med                  49854 non-null  float64\n",
      " 52  mths_since_last_major_derog                 1727 non-null   float64\n",
      " 53  policy_code                                 49999 non-null  float64\n",
      " 54  application_type                            49999 non-null  object \n",
      " 55  annual_inc_joint                            0 non-null      float64\n",
      " 56  dti_joint                                   0 non-null      float64\n",
      " 57  verification_status_joint                   0 non-null      float64\n",
      " 58  acc_now_delinq                              49970 non-null  float64\n",
      " 59  tot_coll_amt                                7464 non-null   float64\n",
      " 60  tot_cur_bal                                 7464 non-null   float64\n",
      " 61  open_acc_6m                                 0 non-null      float64\n",
      " 62  open_act_il                                 0 non-null      float64\n",
      " 63  open_il_12m                                 0 non-null      float64\n",
      " 64  open_il_24m                                 0 non-null      float64\n",
      " 65  mths_since_rcnt_il                          0 non-null      float64\n",
      " 66  total_bal_il                                0 non-null      float64\n",
      " 67  il_util                                     0 non-null      float64\n",
      " 68  open_rv_12m                                 0 non-null      float64\n",
      " 69  open_rv_24m                                 0 non-null      float64\n",
      " 70  max_bal_bc                                  0 non-null      float64\n",
      " 71  all_util                                    0 non-null      float64\n",
      " 72  total_rev_hi_lim                            7464 non-null   float64\n",
      " 73  inq_fi                                      0 non-null      float64\n",
      " 74  total_cu_tl                                 0 non-null      float64\n",
      " 75  inq_last_12m                                0 non-null      float64\n",
      " 76  acc_open_past_24mths                        7464 non-null   float64\n",
      " 77  avg_cur_bal                                 7464 non-null   float64\n",
      " 78  bc_open_to_buy                              7393 non-null   float64\n",
      " 79  bc_util                                     7390 non-null   float64\n",
      " 80  chargeoff_within_12_mths                    49854 non-null  float64\n",
      " 81  delinq_amnt                                 49970 non-null  float64\n",
      " 82  mo_sin_old_il_acct                          7224 non-null   float64\n",
      " 83  mo_sin_old_rev_tl_op                        7464 non-null   float64\n",
      " 84  mo_sin_rcnt_rev_tl_op                       7464 non-null   float64\n",
      " 85  mo_sin_rcnt_tl                              7464 non-null   float64\n",
      " 86  mort_acc                                    7464 non-null   float64\n",
      " 87  mths_since_recent_bc                        7401 non-null   float64\n",
      " 88  mths_since_recent_bc_dlq                    1890 non-null   float64\n",
      " 89  mths_since_recent_inq                       6820 non-null   float64\n",
      " 90  mths_since_recent_revol_delinq              2492 non-null   float64\n",
      " 91  num_accts_ever_120_pd                       7464 non-null   float64\n",
      " 92  num_actv_bc_tl                              7464 non-null   float64\n",
      " 93  num_actv_rev_tl                             7464 non-null   float64\n",
      " 94  num_bc_sats                                 7464 non-null   float64\n",
      " 95  num_bc_tl                                   7464 non-null   float64\n",
      " 96  num_il_tl                                   7464 non-null   float64\n",
      " 97  num_op_rev_tl                               7464 non-null   float64\n",
      " 98  num_rev_accts                               7464 non-null   float64\n",
      " 99  num_rev_tl_bal_gt_0                         7464 non-null   float64\n",
      " 100 num_sats                                    7464 non-null   float64\n",
      " 101 num_tl_120dpd_2m                            7216 non-null   float64\n",
      " 102 num_tl_30dpd                                7464 non-null   float64\n",
      " 103 num_tl_90g_dpd_24m                          7464 non-null   float64\n",
      " 104 num_tl_op_past_12m                          7464 non-null   float64\n",
      " 105 pct_tl_nvr_dlq                              7464 non-null   float64\n",
      " 106 percent_bc_gt_75                            7391 non-null   float64\n",
      " 107 pub_rec_bankruptcies                        48634 non-null  float64\n",
      " 108 tax_liens                                   49894 non-null  float64\n",
      " 109 tot_hi_cred_lim                             7464 non-null   float64\n",
      " 110 total_bal_ex_mort                           7464 non-null   float64\n",
      " 111 total_bc_limit                              7464 non-null   float64\n",
      " 112 total_il_high_credit_limit                  7464 non-null   float64\n",
      " 113 revol_bal_joint                             0 non-null      float64\n",
      " 114 sec_app_fico_range_low                      0 non-null      float64\n",
      " 115 sec_app_fico_range_high                     0 non-null      float64\n",
      " 116 sec_app_earliest_cr_line                    0 non-null      float64\n",
      " 117 sec_app_inq_last_6mths                      0 non-null      float64\n",
      " 118 sec_app_mort_acc                            0 non-null      float64\n",
      " 119 sec_app_open_acc                            0 non-null      float64\n",
      " 120 sec_app_revol_util                          0 non-null      float64\n",
      " 121 sec_app_open_act_il                         0 non-null      float64\n",
      " 122 sec_app_num_rev_accts                       0 non-null      float64\n",
      " 123 sec_app_chargeoff_within_12_mths            0 non-null      float64\n",
      " 124 sec_app_collections_12_mths_ex_med          0 non-null      float64\n",
      " 125 hardship_flag                               49999 non-null  object \n",
      " 126 hardship_type                               8 non-null      object \n",
      " 127 hardship_reason                             8 non-null      object \n",
      " 128 hardship_status                             8 non-null      object \n",
      " 129 deferral_term                               8 non-null      float64\n",
      " 130 hardship_amount                             8 non-null      float64\n",
      " 131 hardship_start_date                         8 non-null      object \n",
      " 132 hardship_end_date                           8 non-null      object \n",
      " 133 payment_plan_start_date                     8 non-null      object \n",
      " 134 hardship_length                             8 non-null      float64\n",
      " 135 hardship_dpd                                8 non-null      float64\n",
      " 136 hardship_loan_status                        8 non-null      object \n",
      " 137 orig_projected_additional_accrued_interest  6 non-null      float64\n",
      " 138 hardship_payoff_balance_amount              8 non-null      float64\n",
      " 139 hardship_last_payment_amount                8 non-null      float64\n",
      " 140 debt_settlement_flag                        49999 non-null  object \n",
      "dtypes: float64(108), object(33)\n",
      "memory usage: 54.2+ MB\n"
     ]
    }
   ],
   "source": [
    "#Explore dataset features\n",
    "loans.info(max_cols=141)"
   ]
  },
  {
   "cell_type": "markdown",
   "metadata": {},
   "source": [
    "<p style=\"text-align: left;\"> \n",
    "After exploring the dataset features we notice that the first fifty or so contain the least amount of NaNs so that will be our starting point.  Also because the goal of our project is to predict which borrowers will mostlikely fully repay their loan, we'll use the 'loan_status' feature as our target.\n",
    "</p>"
   ]
  },
  {
   "cell_type": "code",
   "execution_count": 5,
   "metadata": {},
   "outputs": [],
   "source": [
    "#Subsetting the original LC dataset\n",
    "alt_loans = loans.copy()\n",
    "alt_loans = alt_loans.iloc[:, :51]"
   ]
  },
  {
   "cell_type": "code",
   "execution_count": 6,
   "metadata": {},
   "outputs": [
    {
     "data": {
      "text/plain": [
       "Fully Paid                                             40414\n",
       "Charged Off                                             6836\n",
       "Does not meet the credit policy. Status:Fully Paid      1988\n",
       "Does not meet the credit policy. Status:Charged Off      761\n",
       "Name: loan_status, dtype: int64"
      ]
     },
     "execution_count": 6,
     "metadata": {},
     "output_type": "execute_result"
    }
   ],
   "source": [
    "#Exploring the target feature\n",
    "alt_loans['loan_status'].value_counts()"
   ]
  },
  {
   "cell_type": "markdown",
   "metadata": {},
   "source": [
    "<p style=\"text-align: left;\"> \n",
    "In our target feature there are two version of each possible loan status.  We'll merge both version of each value so that we only have 'Full Paid' or 'Charged Off' as loan statuses. But first we'll address our NaN values in our features and further pare our features list down. \n",
    "</p>"
   ]
  },
  {
   "cell_type": "code",
   "execution_count": 7,
   "metadata": {},
   "outputs": [
    {
     "data": {
      "text/plain": [
       "id                             0\n",
       "loan_amnt                      1\n",
       "funded_amnt                    1\n",
       "funded_amnt_inv                1\n",
       "term                           1\n",
       "int_rate                       1\n",
       "installment                    1\n",
       "grade                          1\n",
       "sub_grade                      1\n",
       "emp_title                   3087\n",
       "emp_length                  1441\n",
       "home_ownership                 1\n",
       "annual_inc                     5\n",
       "verification_status            1\n",
       "issue_d                        1\n",
       "loan_status                    1\n",
       "pymnt_plan                     1\n",
       "url                            1\n",
       "purpose                        1\n",
       "title                         14\n",
       "zip_code                       1\n",
       "addr_state                     1\n",
       "dti                            1\n",
       "delinq_2yrs                   30\n",
       "earliest_cr_line              30\n",
       "fico_range_low                 1\n",
       "fico_range_high                1\n",
       "inq_last_6mths                30\n",
       "mths_since_last_delinq     30824\n",
       "mths_since_last_record     45294\n",
       "open_acc                      30\n",
       "pub_rec                       30\n",
       "revol_bal                      1\n",
       "revol_util                    95\n",
       "total_acc                     30\n",
       "initial_list_status            1\n",
       "out_prncp                      1\n",
       "out_prncp_inv                  1\n",
       "total_pymnt                    1\n",
       "total_pymnt_inv                1\n",
       "total_rec_prncp                1\n",
       "total_rec_int                  1\n",
       "total_rec_late_fee             1\n",
       "recoveries                     1\n",
       "collection_recovery_fee        1\n",
       "last_pymnt_d                  87\n",
       "last_pymnt_amnt                1\n",
       "next_pymnt_d               47251\n",
       "last_credit_pull_d             5\n",
       "last_fico_range_high           1\n",
       "last_fico_range_low            1\n",
       "dtype: int64"
      ]
     },
     "execution_count": 7,
     "metadata": {},
     "output_type": "execute_result"
    }
   ],
   "source": [
    "#Checking NaN counts\n",
    "alt_loans.isna().sum()"
   ]
  },
  {
   "cell_type": "markdown",
   "metadata": {},
   "source": [
    "<p style=\"text-align: left;\"> \n",
    "After reviewing the NaN counts for our features and consulting the data dictionary there are a number of features that can be removed from the dataset. \n",
    "</p>"
   ]
  },
  {
   "cell_type": "code",
   "execution_count": 8,
   "metadata": {},
   "outputs": [],
   "source": [
    "#Droping selected features from dataset\n",
    "alt_loans.drop(axis=0, columns=['next_pymnt_d', 'id', 'last_credit_pull_d',\n",
    "                                'last_pymnt_d', 'collection_recovery_fee',\n",
    "                                'recoveries', 'total_pymnt_inv', 'total_rec_prncp',\n",
    "                                'total_rec_int', 'total_rec_late_fee', 'initial_list_status',\n",
    "                                'out_prncp', 'out_prncp_inv', 'verification_status',\n",
    "                                'url', 'delinq_2yrs', 'earliest_cr_line', 'last_fico_range_high',\n",
    "                                'last_fico_range_low', 'issue_d', 'emp_title', 'title'], inplace=True)"
   ]
  },
  {
   "cell_type": "markdown",
   "metadata": {},
   "source": [
    "<p style=\"text-align: left;\"> \n",
    "The first feature that we will address NaNs for will be 'emp_length' because there are 1,441 NaNs for this field.  Two of the values for this feature will need to be altered as well due to certain models having issues with some of the symbols in the values. The '+' in '10+ years' and the '<' in '< 1 year' can cause errors when modeling.\n",
    "</p>"
   ]
  },
  {
   "cell_type": "code",
   "execution_count": 9,
   "metadata": {},
   "outputs": [
    {
     "data": {
      "text/plain": [
       "array(['10+ years', '< 1 year', '1 year', '3 years', '8 years', '9 years',\n",
       "       '4 years', '5 years', '6 years', '2 years', '7 years', nan],\n",
       "      dtype=object)"
      ]
     },
     "execution_count": 9,
     "metadata": {},
     "output_type": "execute_result"
    }
   ],
   "source": [
    "#Exploring 'emp_length' values\n",
    "alt_loans['emp_length'].unique()"
   ]
  },
  {
   "cell_type": "code",
   "execution_count": 10,
   "metadata": {},
   "outputs": [],
   "source": [
    "#Addressing 'emp_length' NaN values\n",
    "alt_loans['emp_length'].fillna(value='N/A', axis=0, inplace=True)"
   ]
  },
  {
   "cell_type": "code",
   "execution_count": 11,
   "metadata": {},
   "outputs": [],
   "source": [
    "#Addressing 'emp_length' '+' symbol in values\n",
    "alt_loans['emp_length'].replace(to_replace='10+ years', value='gt10 years', inplace=True)"
   ]
  },
  {
   "cell_type": "code",
   "execution_count": 12,
   "metadata": {},
   "outputs": [],
   "source": [
    "#Addressing 'emp_length' '<' symbol in values\n",
    "alt_loans['emp_length'].replace(to_replace='< 1 year', value='lt1 year', inplace=True)"
   ]
  },
  {
   "cell_type": "code",
   "execution_count": 13,
   "metadata": {},
   "outputs": [
    {
     "data": {
      "text/plain": [
       "array(['gt10 years', 'lt1 year', '1 year', '3 years', '8 years',\n",
       "       '9 years', '4 years', '5 years', '6 years', '2 years', '7 years',\n",
       "       'N/A'], dtype=object)"
      ]
     },
     "execution_count": 13,
     "metadata": {},
     "output_type": "execute_result"
    }
   ],
   "source": [
    "#Verifying 'emp_length' changes\n",
    "alt_loans['emp_length'].unique()"
   ]
  },
  {
   "cell_type": "markdown",
   "metadata": {},
   "source": [
    "<p style=\"text-align: left;\"> \n",
    "The next feature that we will address NaNs for will be 'inq_last_6mths' of which there are 30 NaN values. Consulting the data dictionary 'inq_last_6mths' represents inquiries made in the last 6 months.  Using this information an acceptable NaN replacement value would be to use the mean for this field.\n",
    "</p> "
   ]
  },
  {
   "cell_type": "code",
   "execution_count": 14,
   "metadata": {},
   "outputs": [
    {
     "data": {
      "text/plain": [
       "array([ 1.,  5.,  2.,  0.,  3.,  4.,  6.,  7.,  8., nan,  9., 10., 11.,\n",
       "       12., 15., 14., 33., 17., 32., 24., 13., 18., 16., 31., 28., 25.,\n",
       "       27., 20., 19.])"
      ]
     },
     "execution_count": 14,
     "metadata": {},
     "output_type": "execute_result"
    }
   ],
   "source": [
    "#Exploring 'inq_last_6mths' values\n",
    "alt_loans['inq_last_6mths'].unique()"
   ]
  },
  {
   "cell_type": "code",
   "execution_count": 15,
   "metadata": {},
   "outputs": [],
   "source": [
    "#Addressing 'inq_last_6mths' NaN values\n",
    "repl_val = round(alt_loans['inq_last_6mths'].mean())\n",
    "alt_loans['inq_last_6mths'].fillna(value=repl_val, axis=0, inplace=True)"
   ]
  },
  {
   "cell_type": "code",
   "execution_count": 16,
   "metadata": {},
   "outputs": [
    {
     "data": {
      "text/plain": [
       "array([ 1.,  5.,  2.,  0.,  3.,  4.,  6.,  7.,  8.,  9., 10., 11., 12.,\n",
       "       15., 14., 33., 17., 32., 24., 13., 18., 16., 31., 28., 25., 27.,\n",
       "       20., 19.])"
      ]
     },
     "execution_count": 16,
     "metadata": {},
     "output_type": "execute_result"
    }
   ],
   "source": [
    "#Verifying 'inq_last_6mths' changes\n",
    "alt_loans['inq_last_6mths'].unique()"
   ]
  },
  {
   "cell_type": "markdown",
   "metadata": {},
   "source": [
    "<p style=\"text-align: left;\"> \n",
    "The features 'mths_since_last_delinq'(30,824 NaNs) and 'mths_since_last_record'(45,294 NaNs) represent the months since last delinquency and the months since last public record was made. Using this information an acceptable NaN replacement value would be to use the means for these fields. \n",
    "</p>"
   ]
  },
  {
   "cell_type": "code",
   "execution_count": 17,
   "metadata": {},
   "outputs": [
    {
     "data": {
      "text/plain": [
       "array([ nan,  35.,  38.,  61.,   8.,  20.,  18.,  68.,  45.,  48.,  41.,\n",
       "        40.,  74.,  25.,  53.,  39.,  10.,  26.,  56.,  77.,  28.,  52.,\n",
       "        24.,  16.,  60.,  54.,  23.,   9.,  11.,  13.,  65.,  19.,  80.,\n",
       "        22.,  59.,  79.,  44.,  64.,  57.,  14.,  63.,  49.,  15.,  73.,\n",
       "        70.,  29.,  51.,   5.,  75.,  55.,   2.,  30.,  47.,  33.,  69.,\n",
       "         4.,  43.,  21.,  27.,  46.,  81.,  78.,  82.,  31.,  76.,  62.,\n",
       "        72.,  42.,  50.,   3.,  12.,  67.,  36.,  34.,  58.,  17.,  71.,\n",
       "        66.,  32.,   6.,  37.,   7.,   1.,  83.,  86., 115.,  96., 103.,\n",
       "       120., 106.,  89., 107.,  85.,  97.,  95.,   0., 110.,  84., 135.])"
      ]
     },
     "execution_count": 17,
     "metadata": {},
     "output_type": "execute_result"
    }
   ],
   "source": [
    "#Exploring 'mths_since_last_delinq' values\n",
    "alt_loans['mths_since_last_delinq'].unique()"
   ]
  },
  {
   "cell_type": "code",
   "execution_count": 18,
   "metadata": {},
   "outputs": [],
   "source": [
    "#Addressing 'mths_since_last_delinq' NaN values\n",
    "repl_val = round(alt_loans['mths_since_last_delinq'].mean())\n",
    "alt_loans['mths_since_last_delinq'].fillna(value=repl_val, axis=0, inplace=True)"
   ]
  },
  {
   "cell_type": "code",
   "execution_count": 19,
   "metadata": {},
   "outputs": [
    {
     "data": {
      "text/plain": [
       "array([ 35.,  38.,  61.,   8.,  20.,  18.,  68.,  45.,  48.,  41.,  40.,\n",
       "        74.,  25.,  53.,  39.,  10.,  26.,  56.,  77.,  28.,  52.,  24.,\n",
       "        16.,  60.,  54.,  23.,   9.,  11.,  13.,  65.,  19.,  80.,  22.,\n",
       "        59.,  79.,  44.,  64.,  57.,  14.,  63.,  49.,  15.,  73.,  70.,\n",
       "        29.,  51.,   5.,  75.,  55.,   2.,  30.,  47.,  33.,  69.,   4.,\n",
       "        43.,  21.,  27.,  46.,  81.,  78.,  82.,  31.,  76.,  62.,  72.,\n",
       "        42.,  50.,   3.,  12.,  67.,  36.,  34.,  58.,  17.,  71.,  66.,\n",
       "        32.,   6.,  37.,   7.,   1.,  83.,  86., 115.,  96., 103., 120.,\n",
       "       106.,  89., 107.,  85.,  97.,  95.,   0., 110.,  84., 135.])"
      ]
     },
     "execution_count": 19,
     "metadata": {},
     "output_type": "execute_result"
    }
   ],
   "source": [
    "#Verifying 'mths_since_last_delinq' changes\n",
    "alt_loans['mths_since_last_delinq'].unique()"
   ]
  },
  {
   "cell_type": "code",
   "execution_count": 20,
   "metadata": {},
   "outputs": [
    {
     "data": {
      "text/plain": [
       "array([ nan, 113., 105.,  97.,  33.,  93.,  52.,  85.,  90.,  91., 114.,\n",
       "        92., 117.,  87.,  45.,  83., 118.,  38., 101., 100., 112., 110.,\n",
       "        88.,  79.,  77., 107., 102.,  98.,  95., 103.,  96., 116., 111.,\n",
       "        89., 108.,  29., 106., 115.,  53.,  86.,  57.,  63.,  94., 109.,\n",
       "        99., 104.,  76.,  61.,  28.,  23.,  75.,  47.,  82.,  21.,  62.,\n",
       "        44.,  80.,  67., 119.,  42.,  34.,  66.,  58.,  22.,  56.,  72.,\n",
       "        64.,  50.,  69.,  49.,  74.,  35.,  12.,  26.,  78.,  54.,  37.,\n",
       "        73.,  11.,  31.,  59.,  32.,  81.,  68.,  55.,  39.,  51.,  70.,\n",
       "        30.,  41.,  71.,  40.,  43.,  27.,  65.,  46.,  19.,  17.,  25.,\n",
       "        13.,  48.,  36.,   7.,  60.,  14.,   6.,  18.,   0.,  20., 120.,\n",
       "       129.,   5.,  24.,  15.,  84.,  10.,  16.,   8.,   9.,   3., 121.])"
      ]
     },
     "execution_count": 20,
     "metadata": {},
     "output_type": "execute_result"
    }
   ],
   "source": [
    "#Exploring 'mths_since_last_record' values\n",
    "alt_loans['mths_since_last_record'].unique()"
   ]
  },
  {
   "cell_type": "code",
   "execution_count": 21,
   "metadata": {},
   "outputs": [],
   "source": [
    "#Addressing 'mths_since_last_record' NaN values\n",
    "repl_val = round(alt_loans['mths_since_last_record'].mean())\n",
    "alt_loans['mths_since_last_record'].fillna(value=repl_val, axis=0, inplace=True)"
   ]
  },
  {
   "cell_type": "code",
   "execution_count": 22,
   "metadata": {},
   "outputs": [
    {
     "data": {
      "text/plain": [
       "array([ 63., 113., 105.,  97.,  33.,  93.,  52.,  85.,  90.,  91., 114.,\n",
       "        92., 117.,  87.,  45.,  83., 118.,  38., 101., 100., 112., 110.,\n",
       "        88.,  79.,  77., 107., 102.,  98.,  95., 103.,  96., 116., 111.,\n",
       "        89., 108.,  29., 106., 115.,  53.,  86.,  57.,  94., 109.,  99.,\n",
       "       104.,  76.,  61.,  28.,  23.,  75.,  47.,  82.,  21.,  62.,  44.,\n",
       "        80.,  67., 119.,  42.,  34.,  66.,  58.,  22.,  56.,  72.,  64.,\n",
       "        50.,  69.,  49.,  74.,  35.,  12.,  26.,  78.,  54.,  37.,  73.,\n",
       "        11.,  31.,  59.,  32.,  81.,  68.,  55.,  39.,  51.,  70.,  30.,\n",
       "        41.,  71.,  40.,  43.,  27.,  65.,  46.,  19.,  17.,  25.,  13.,\n",
       "        48.,  36.,   7.,  60.,  14.,   6.,  18.,   0.,  20., 120., 129.,\n",
       "         5.,  24.,  15.,  84.,  10.,  16.,   8.,   9.,   3., 121.])"
      ]
     },
     "execution_count": 22,
     "metadata": {},
     "output_type": "execute_result"
    }
   ],
   "source": [
    "#Verifying 'mths_since_last_record' changes\n",
    "alt_loans['mths_since_last_record'].unique()"
   ]
  },
  {
   "cell_type": "markdown",
   "metadata": {},
   "source": [
    "<p style=\"text-align: left;\"> \n",
    "The next two features to address are 'open_acc'(30 NaNs) and 'pub_rec'(30 NaNs). They  represent the number of open credit lines and the number of derogatory public records. Using this information an acceptable NaN replacement value would be to use the means for these fields.\n",
    "</p>"
   ]
  },
  {
   "cell_type": "code",
   "execution_count": 23,
   "metadata": {},
   "outputs": [
    {
     "data": {
      "text/plain": [
       "array([ 3.,  2., 10., 15.,  9.,  7.,  4., 11., 14., 12., 20.,  8.,  6.,\n",
       "       17.,  5., 13., 16., 30., 21., 18., 19., 27., 23., 34., 25., 22.,\n",
       "       24., 26., 32., 28., 29., 33., 31., 39., 35., 36., 38., 44., 41.,\n",
       "       42., nan,  1., 46., 37., 47., 40.])"
      ]
     },
     "execution_count": 23,
     "metadata": {},
     "output_type": "execute_result"
    }
   ],
   "source": [
    "#Exploring 'open_acc' values\n",
    "alt_loans['open_acc'].unique()"
   ]
  },
  {
   "cell_type": "code",
   "execution_count": 24,
   "metadata": {},
   "outputs": [],
   "source": [
    "#Addressing 'open_acc' NaN values\n",
    "repl_val = round(alt_loans['open_acc'].mean())\n",
    "alt_loans['open_acc'].fillna(value=repl_val, axis=0, inplace=True)"
   ]
  },
  {
   "cell_type": "code",
   "execution_count": 25,
   "metadata": {},
   "outputs": [
    {
     "data": {
      "text/plain": [
       "array([ 3.,  2., 10., 15.,  9.,  7.,  4., 11., 14., 12., 20.,  8.,  6.,\n",
       "       17.,  5., 13., 16., 30., 21., 18., 19., 27., 23., 34., 25., 22.,\n",
       "       24., 26., 32., 28., 29., 33., 31., 39., 35., 36., 38., 44., 41.,\n",
       "       42.,  1., 46., 37., 47., 40.])"
      ]
     },
     "execution_count": 25,
     "metadata": {},
     "output_type": "execute_result"
    }
   ],
   "source": [
    "#Verifying 'open_acc' changes\n",
    "alt_loans['open_acc'].unique()"
   ]
  },
  {
   "cell_type": "code",
   "execution_count": 26,
   "metadata": {},
   "outputs": [
    {
     "data": {
      "text/plain": [
       "array([ 0.,  1.,  2.,  3.,  4., nan,  5.,  6.,  9.,  8.,  7.])"
      ]
     },
     "execution_count": 26,
     "metadata": {},
     "output_type": "execute_result"
    }
   ],
   "source": [
    "#Exploring 'pub_rec' values\n",
    "alt_loans['pub_rec'].unique()"
   ]
  },
  {
   "cell_type": "code",
   "execution_count": 27,
   "metadata": {},
   "outputs": [],
   "source": [
    "#Addressing 'pub_rec' NaN values\n",
    "repl_val = round(alt_loans['pub_rec'].mean())\n",
    "alt_loans['pub_rec'].fillna(value=repl_val, axis=0, inplace=True)"
   ]
  },
  {
   "cell_type": "code",
   "execution_count": 28,
   "metadata": {},
   "outputs": [
    {
     "data": {
      "text/plain": [
       "array([0., 1., 2., 3., 4., 5., 6., 9., 8., 7.])"
      ]
     },
     "execution_count": 28,
     "metadata": {},
     "output_type": "execute_result"
    }
   ],
   "source": [
    "#Verifying 'pub_rec' changes\n",
    "alt_loans['pub_rec'].unique()"
   ]
  },
  {
   "cell_type": "markdown",
   "metadata": {},
   "source": [
    "<p style=\"text-align: left;\"> \n",
    "'revol_util'(95 NaNs) and 'total_acc'(30 NaNs) are the next two features to address. They represent the revolving utilization rate and the total number of credit lines. Using this information an acceptable NaN replacement value would be to use the mean for 'total_acc' and a dummy value for 'revol_util'.\n",
    "</p>"
   ]
  },
  {
   "cell_type": "code",
   "execution_count": 29,
   "metadata": {},
   "outputs": [
    {
     "data": {
      "text/plain": [
       "array(['83.7%', '9.4%', '98.5%', ..., '101%', '100.3%', '101.3%'],\n",
       "      dtype=object)"
      ]
     },
     "execution_count": 29,
     "metadata": {},
     "output_type": "execute_result"
    }
   ],
   "source": [
    "#Exploring 'revol_util' values\n",
    "alt_loans['revol_util'].unique()"
   ]
  },
  {
   "cell_type": "code",
   "execution_count": 30,
   "metadata": {},
   "outputs": [],
   "source": [
    "#Addressing 'revol_util' NaN values\n",
    "alt_loans['revol_util'].fillna(value='99999.999%', axis=0, inplace=True)"
   ]
  },
  {
   "cell_type": "code",
   "execution_count": 31,
   "metadata": {},
   "outputs": [
    {
     "data": {
      "text/plain": [
       "array(['83.7%', '9.4%', '98.5%', ..., '101%', '100.3%', '101.3%'],\n",
       "      dtype=object)"
      ]
     },
     "execution_count": 31,
     "metadata": {},
     "output_type": "execute_result"
    }
   ],
   "source": [
    "#Verifying 'revol_util' changes\n",
    "alt_loans['revol_util'].unique()"
   ]
  },
  {
   "cell_type": "code",
   "execution_count": 32,
   "metadata": {},
   "outputs": [
    {
     "data": {
      "text/plain": [
       "array([  9.,   4.,  10.,  37.,  38.,  12.,  11.,  13.,   3.,  23.,  34.,\n",
       "        29.,  28.,  42.,  14.,  22.,  21.,  17.,   7.,  31.,  44.,  26.,\n",
       "        16.,   6.,  18.,  27.,  24.,  25.,  40.,  35.,   8.,  20.,  15.,\n",
       "        19.,  36.,  51.,  32.,  30.,  33.,  46.,   5.,  61.,  56.,  50.,\n",
       "        41.,  39.,  79.,  62.,  43.,  47.,  53.,  45.,  60.,  55.,  52.,\n",
       "        58.,  54.,  57.,  49.,  63.,  48.,  59.,  77.,  87.,  75.,  72.,\n",
       "        64.,  67.,  78.,  76.,  74.,  66.,  81.,  90.,  80.,  71.,  69.,\n",
       "        73.,  70.,  68.,  65.,   2.,  nan,   1., 105.])"
      ]
     },
     "execution_count": 32,
     "metadata": {},
     "output_type": "execute_result"
    }
   ],
   "source": [
    "#Exploring 'total_acc' values\n",
    "alt_loans['total_acc'].unique()"
   ]
  },
  {
   "cell_type": "code",
   "execution_count": 33,
   "metadata": {},
   "outputs": [],
   "source": [
    "#Addressing 'total_acc' NaN values\n",
    "repl_val = round(alt_loans['total_acc'].mean())\n",
    "alt_loans['total_acc'].fillna(value=repl_val, axis=0, inplace=True)"
   ]
  },
  {
   "cell_type": "code",
   "execution_count": 34,
   "metadata": {},
   "outputs": [
    {
     "data": {
      "text/plain": [
       "array([  9.,   4.,  10.,  37.,  38.,  12.,  11.,  13.,   3.,  23.,  34.,\n",
       "        29.,  28.,  42.,  14.,  22.,  21.,  17.,   7.,  31.,  44.,  26.,\n",
       "        16.,   6.,  18.,  27.,  24.,  25.,  40.,  35.,   8.,  20.,  15.,\n",
       "        19.,  36.,  51.,  32.,  30.,  33.,  46.,   5.,  61.,  56.,  50.,\n",
       "        41.,  39.,  79.,  62.,  43.,  47.,  53.,  45.,  60.,  55.,  52.,\n",
       "        58.,  54.,  57.,  49.,  63.,  48.,  59.,  77.,  87.,  75.,  72.,\n",
       "        64.,  67.,  78.,  76.,  74.,  66.,  81.,  90.,  80.,  71.,  69.,\n",
       "        73.,  70.,  68.,  65.,   2.,   1., 105.])"
      ]
     },
     "execution_count": 34,
     "metadata": {},
     "output_type": "execute_result"
    }
   ],
   "source": [
    "#Verifying 'total_acc' changes\n",
    "alt_loans['total_acc'].unique()"
   ]
  },
  {
   "cell_type": "markdown",
   "metadata": {},
   "source": [
    "<p style=\"text-align: left;\"> \n",
    "Now that we have an acceptable feature list and the NaN count should be low enough to drop the offending rows.\n",
    "</p>"
   ]
  },
  {
   "cell_type": "code",
   "execution_count": 35,
   "metadata": {},
   "outputs": [
    {
     "data": {
      "text/plain": [
       "loan_amnt                 1\n",
       "funded_amnt               1\n",
       "funded_amnt_inv           1\n",
       "term                      1\n",
       "int_rate                  1\n",
       "installment               1\n",
       "grade                     1\n",
       "sub_grade                 1\n",
       "emp_length                0\n",
       "home_ownership            1\n",
       "annual_inc                5\n",
       "loan_status               1\n",
       "pymnt_plan                1\n",
       "purpose                   1\n",
       "zip_code                  1\n",
       "addr_state                1\n",
       "dti                       1\n",
       "fico_range_low            1\n",
       "fico_range_high           1\n",
       "inq_last_6mths            0\n",
       "mths_since_last_delinq    0\n",
       "mths_since_last_record    0\n",
       "open_acc                  0\n",
       "pub_rec                   0\n",
       "revol_bal                 1\n",
       "revol_util                0\n",
       "total_acc                 0\n",
       "total_pymnt               1\n",
       "last_pymnt_amnt           1\n",
       "dtype: int64"
      ]
     },
     "execution_count": 35,
     "metadata": {},
     "output_type": "execute_result"
    }
   ],
   "source": [
    "#Reverifying NaN counts\n",
    "alt_loans.isna().sum()"
   ]
  },
  {
   "cell_type": "code",
   "execution_count": 36,
   "metadata": {},
   "outputs": [],
   "source": [
    "#Drop records with NaNs\n",
    "alt_loans.dropna(inplace=True)"
   ]
  },
  {
   "cell_type": "code",
   "execution_count": 37,
   "metadata": {},
   "outputs": [
    {
     "data": {
      "text/plain": [
       "loan_amnt                 0\n",
       "funded_amnt               0\n",
       "funded_amnt_inv           0\n",
       "term                      0\n",
       "int_rate                  0\n",
       "installment               0\n",
       "grade                     0\n",
       "sub_grade                 0\n",
       "emp_length                0\n",
       "home_ownership            0\n",
       "annual_inc                0\n",
       "loan_status               0\n",
       "pymnt_plan                0\n",
       "purpose                   0\n",
       "zip_code                  0\n",
       "addr_state                0\n",
       "dti                       0\n",
       "fico_range_low            0\n",
       "fico_range_high           0\n",
       "inq_last_6mths            0\n",
       "mths_since_last_delinq    0\n",
       "mths_since_last_record    0\n",
       "open_acc                  0\n",
       "pub_rec                   0\n",
       "revol_bal                 0\n",
       "revol_util                0\n",
       "total_acc                 0\n",
       "total_pymnt               0\n",
       "last_pymnt_amnt           0\n",
       "dtype: int64"
      ]
     },
     "execution_count": 37,
     "metadata": {},
     "output_type": "execute_result"
    }
   ],
   "source": [
    "#Verifying feature changes\n",
    "alt_loans.isna().sum()"
   ]
  },
  {
   "cell_type": "markdown",
   "metadata": {},
   "source": [
    "<p style=\"text-align: left;\"> \n",
    "With no NaN values in our features it is time to turn our attention to preping our target variable. There are two variants of the loan status values 'Fully Paid' and 'Charged Off' that need to be merged.\n",
    "</p>"
   ]
  },
  {
   "cell_type": "code",
   "execution_count": 38,
   "metadata": {},
   "outputs": [],
   "source": [
    "#Merging 'loan_status' values\n",
    "ls = [] \n",
    "for x in alt_loans['loan_status']:\n",
    "    if x == 'Does not meet the credit policy. Status:Fully Paid':\n",
    "        ls.append('Fully Paid')\n",
    "    elif x == 'Fully Paid':\n",
    "        ls.append('Fully Paid')\n",
    "    elif x == 'Does not meet the credit policy. Status:Charged Off':\n",
    "        ls.append('Charged Off')\n",
    "    elif x == 'Charged Off':\n",
    "        ls.append('Charged Off')\n",
    "\n",
    "alt_loans['loan_status'] = ls"
   ]
  },
  {
   "cell_type": "code",
   "execution_count": 39,
   "metadata": {},
   "outputs": [
    {
     "data": {
      "text/plain": [
       "Fully Paid     42398\n",
       "Charged Off     7597\n",
       "Name: loan_status, dtype: int64"
      ]
     },
     "execution_count": 39,
     "metadata": {},
     "output_type": "execute_result"
    }
   ],
   "source": [
    "#Verifying 'loan_status' values\n",
    "alt_loans['loan_status'].value_counts()"
   ]
  },
  {
   "cell_type": "markdown",
   "metadata": {},
   "source": [
    "<p style=\"text-align: left;\"> \n",
    "The last step in our preprocessing is to address our categorical and numerical features so that the machine learning models can run properly.\n",
    "</p>"
   ]
  },
  {
   "cell_type": "code",
   "execution_count": 40,
   "metadata": {},
   "outputs": [
    {
     "data": {
      "text/plain": [
       "['term',\n",
       " 'int_rate',\n",
       " 'grade',\n",
       " 'sub_grade',\n",
       " 'emp_length',\n",
       " 'home_ownership',\n",
       " 'loan_status',\n",
       " 'pymnt_plan',\n",
       " 'purpose',\n",
       " 'zip_code',\n",
       " 'addr_state',\n",
       " 'revol_util']"
      ]
     },
     "metadata": {},
     "output_type": "display_data"
    },
    {
     "data": {
      "text/plain": [
       "['loan_amnt',\n",
       " 'funded_amnt',\n",
       " 'funded_amnt_inv',\n",
       " 'installment',\n",
       " 'annual_inc',\n",
       " 'dti',\n",
       " 'fico_range_low',\n",
       " 'fico_range_high',\n",
       " 'inq_last_6mths',\n",
       " 'mths_since_last_delinq',\n",
       " 'mths_since_last_record',\n",
       " 'open_acc',\n",
       " 'pub_rec',\n",
       " 'revol_bal',\n",
       " 'total_acc',\n",
       " 'total_pymnt',\n",
       " 'last_pymnt_amnt']"
      ]
     },
     "metadata": {},
     "output_type": "display_data"
    }
   ],
   "source": [
    "#Exploring the categorical and numerical features\n",
    "cats = []\n",
    "nums = []\n",
    "for x in alt_loans.columns:\n",
    "    if alt_loans[x].dtype == 'object':\n",
    "        cats.append(x)\n",
    "        \n",
    "for x in alt_loans.columns:\n",
    "    if alt_loans[x].dtype != 'object':\n",
    "        nums.append(x)        \n",
    "display(cats)\n",
    "display(nums)"
   ]
  },
  {
   "cell_type": "markdown",
   "metadata": {},
   "source": [
    "<p style=\"text-align: left;\"> \n",
    "In order for our machine learning models to work we mush one-hot encode our categorical variables. However, before one-hot encoding our categorical features we must ensure that those features do not have too many unique values or the one-hot encoder could encounter issues. The first of these featues that we will address will be 'int_rate' given that it has 419 unique values.\n",
    "</p>"
   ]
  },
  {
   "cell_type": "code",
   "execution_count": 41,
   "metadata": {},
   "outputs": [
    {
     "name": "stdout",
     "output_type": "stream",
     "text": [
      "term 2\n",
      "int_rate 419\n",
      "grade 7\n",
      "sub_grade 35\n",
      "emp_length 12\n",
      "home_ownership 5\n",
      "loan_status 2\n",
      "pymnt_plan 1\n",
      "purpose 14\n",
      "zip_code 849\n",
      "addr_state 50\n",
      "revol_util 1131\n"
     ]
    }
   ],
   "source": [
    "#Exploring the value totals for categorical features\n",
    "for x in range(0, len(cats)):\n",
    "    print(cats[x], alt_loans[cats[x]].value_counts().count())"
   ]
  },
  {
   "cell_type": "code",
   "execution_count": 42,
   "metadata": {},
   "outputs": [
    {
     "data": {
      "text/plain": [
       "0        10.65%\n",
       "1        15.27%\n",
       "2        15.96%\n",
       "3        13.49%\n",
       "4        12.69%\n",
       "         ...   \n",
       "7459     14.47%\n",
       "7460     15.61%\n",
       "7461     13.98%\n",
       "7462     10.99%\n",
       "7463     17.57%\n",
       "Name: int_rate, Length: 49995, dtype: object"
      ]
     },
     "execution_count": 42,
     "metadata": {},
     "output_type": "execute_result"
    }
   ],
   "source": [
    "#Exploring 'int_rate' values\n",
    "alt_loans['int_rate']"
   ]
  },
  {
   "cell_type": "markdown",
   "metadata": {},
   "source": [
    "<p style=\"text-align: left;\"> \n",
    "Upon closer inspection the field 'int_rate' appears to actually be numerical.  Therefore, stripping the % character and converting to a float should be sufficient given that this feature represents an interest rate.\n",
    "</p>"
   ]
  },
  {
   "cell_type": "code",
   "execution_count": 43,
   "metadata": {},
   "outputs": [],
   "source": [
    "#Addressing 'int_rate' values\n",
    "alt_loans['int_rate'] = [float(x.strip('%')) for x in alt_loans['int_rate']]"
   ]
  },
  {
   "cell_type": "code",
   "execution_count": 44,
   "metadata": {},
   "outputs": [
    {
     "data": {
      "text/plain": [
       "0       10.65\n",
       "1       15.27\n",
       "2       15.96\n",
       "3       13.49\n",
       "4       12.69\n",
       "        ...  \n",
       "7459    14.47\n",
       "7460    15.61\n",
       "7461    13.98\n",
       "7462    10.99\n",
       "7463    17.57\n",
       "Name: int_rate, Length: 49995, dtype: float64"
      ]
     },
     "execution_count": 44,
     "metadata": {},
     "output_type": "execute_result"
    }
   ],
   "source": [
    "#Verifying 'int_rate' changes\n",
    "alt_loans['int_rate']"
   ]
  },
  {
   "cell_type": "markdown",
   "metadata": {},
   "source": [
    "<p style=\"text-align: left;\"> \n",
    "The next field to address is 'sub_grade' with its 35 different values. The values are two character strings so the best course of action here may be to encode each value to a number between 1 and 35, which would make the feature numerical.\n",
    "</p>"
   ]
  },
  {
   "cell_type": "code",
   "execution_count": 45,
   "metadata": {},
   "outputs": [
    {
     "data": {
      "text/plain": [
       "0       B2\n",
       "1       C4\n",
       "2       C5\n",
       "3       C1\n",
       "4       B5\n",
       "        ..\n",
       "7459    C2\n",
       "7460    C4\n",
       "7461    C1\n",
       "7462    B2\n",
       "7463    D2\n",
       "Name: sub_grade, Length: 49995, dtype: object"
      ]
     },
     "execution_count": 45,
     "metadata": {},
     "output_type": "execute_result"
    }
   ],
   "source": [
    "#Exploring 'sub_grade' values\n",
    "alt_loans['sub_grade']"
   ]
  },
  {
   "cell_type": "code",
   "execution_count": 46,
   "metadata": {},
   "outputs": [],
   "source": [
    "#Addressing 'sub_grade' values\n",
    "sgrades = list(alt_loans['sub_grade'].values)\n",
    "sg_val = list(alt_loans['sub_grade'].unique())\n",
    "\n",
    "sg_dict = {}\n",
    "for x, y in enumerate(sg_val):\n",
    "    sg_dict.update({y:x})\n",
    "\n",
    "sgrades_trans = []\n",
    "for s in sgrades:\n",
    "    for k in sg_dict.keys():\n",
    "        if s == k:\n",
    "            sgrades_trans.append(sg_dict[k])\n",
    "            \n",
    "    \n",
    "alt_loans['sub_grade'] = sgrades_trans"
   ]
  },
  {
   "cell_type": "code",
   "execution_count": 47,
   "metadata": {},
   "outputs": [
    {
     "data": {
      "text/plain": [
       "0        0\n",
       "1        1\n",
       "2        2\n",
       "3        3\n",
       "4        4\n",
       "        ..\n",
       "7459    14\n",
       "7460     1\n",
       "7461     3\n",
       "7462     0\n",
       "7463    15\n",
       "Name: sub_grade, Length: 49995, dtype: int64"
      ]
     },
     "execution_count": 47,
     "metadata": {},
     "output_type": "execute_result"
    }
   ],
   "source": [
    "#Verifying 'sub_grade' changes\n",
    "alt_loans['sub_grade']"
   ]
  },
  {
   "cell_type": "markdown",
   "metadata": {},
   "source": [
    "<p style=\"text-align: left;\"> \n",
    "After 'sub_grade' we'll work on 'zip_code'.  Currently this field is setup as a string containing three numeric digits and two 'x' placeholders to form the five digit zip.  For our purposes we'll strip the placeholders and  use a three digit zip. \n",
    "</p>"
   ]
  },
  {
   "cell_type": "code",
   "execution_count": 48,
   "metadata": {},
   "outputs": [
    {
     "data": {
      "text/plain": [
       "0       860xx\n",
       "1       309xx\n",
       "2       606xx\n",
       "3       917xx\n",
       "4       972xx\n",
       "        ...  \n",
       "7459    601xx\n",
       "7460    535xx\n",
       "7461    254xx\n",
       "7462    911xx\n",
       "7463    770xx\n",
       "Name: zip_code, Length: 49995, dtype: object"
      ]
     },
     "execution_count": 48,
     "metadata": {},
     "output_type": "execute_result"
    }
   ],
   "source": [
    "#Exploring 'zip_code' values\n",
    "alt_loans['zip_code']"
   ]
  },
  {
   "cell_type": "code",
   "execution_count": 49,
   "metadata": {},
   "outputs": [],
   "source": [
    "#Addressing 'zip_code' values\n",
    "alt_loans['zip_code'] = [int(x.strip('x')) for x in alt_loans['zip_code']]"
   ]
  },
  {
   "cell_type": "code",
   "execution_count": 50,
   "metadata": {},
   "outputs": [
    {
     "data": {
      "text/plain": [
       "0       860\n",
       "1       309\n",
       "2       606\n",
       "3       917\n",
       "4       972\n",
       "       ... \n",
       "7459    601\n",
       "7460    535\n",
       "7461    254\n",
       "7462    911\n",
       "7463    770\n",
       "Name: zip_code, Length: 49995, dtype: int64"
      ]
     },
     "execution_count": 50,
     "metadata": {},
     "output_type": "execute_result"
    }
   ],
   "source": [
    "#Verifying 'zip_code' changes\n",
    "alt_loans['zip_code']"
   ]
  },
  {
   "cell_type": "markdown",
   "metadata": {},
   "source": [
    "<p style=\"text-align: left;\"> \n",
    "The field 'addr_state' has 50 different values. The values are two character strings so as we did with 'sub_grade', the best course of action here may be to encode each value to a number between 1 and 50. This would also make the feature numerical.\n",
    "</p>"
   ]
  },
  {
   "cell_type": "code",
   "execution_count": 51,
   "metadata": {},
   "outputs": [
    {
     "data": {
      "text/plain": [
       "0       AZ\n",
       "1       GA\n",
       "2       IL\n",
       "3       CA\n",
       "4       OR\n",
       "        ..\n",
       "7459    IL\n",
       "7460    WI\n",
       "7461    WV\n",
       "7462    CA\n",
       "7463    TX\n",
       "Name: addr_state, Length: 49995, dtype: object"
      ]
     },
     "execution_count": 51,
     "metadata": {},
     "output_type": "execute_result"
    }
   ],
   "source": [
    "#Exploring 'addr_state' values\n",
    "alt_loans['addr_state']"
   ]
  },
  {
   "cell_type": "code",
   "execution_count": 52,
   "metadata": {},
   "outputs": [],
   "source": [
    "#Addressing 'addr_state' values\n",
    "states = list(alt_loans['addr_state'].values)\n",
    "st_val = list(alt_loans['addr_state'].unique())\n",
    "\n",
    "st_dict = {}\n",
    "for x, y in enumerate(st_val):\n",
    "    st_dict.update({y:x})\n",
    "\n",
    "states_trans = []\n",
    "for s in states:\n",
    "    for k in st_dict.keys():\n",
    "        if s == k:\n",
    "            states_trans.append(st_dict[k])\n",
    "\n",
    "alt_loans['addr_state'] = states_trans"
   ]
  },
  {
   "cell_type": "code",
   "execution_count": 53,
   "metadata": {},
   "outputs": [
    {
     "data": {
      "text/plain": [
       "0        0\n",
       "1        1\n",
       "2        2\n",
       "3        3\n",
       "4        4\n",
       "        ..\n",
       "7459     2\n",
       "7460    23\n",
       "7461    30\n",
       "7462     3\n",
       "7463     6\n",
       "Name: addr_state, Length: 49995, dtype: int64"
      ]
     },
     "execution_count": 53,
     "metadata": {},
     "output_type": "execute_result"
    }
   ],
   "source": [
    "#Verifying 'addr_state' changes\n",
    "alt_loans['addr_state']"
   ]
  },
  {
   "cell_type": "markdown",
   "metadata": {},
   "source": [
    "<p style=\"text-align: left;\"> \n",
    "The last field to address will be 'revol_util'.  We'll use the same approach for this field as we used for the interest rate field by stripping the % character and coverting to a float.\n",
    "</p>"
   ]
  },
  {
   "cell_type": "code",
   "execution_count": 54,
   "metadata": {},
   "outputs": [
    {
     "data": {
      "text/plain": [
       "0       83.7%\n",
       "1        9.4%\n",
       "2       98.5%\n",
       "3         21%\n",
       "4       53.9%\n",
       "        ...  \n",
       "7459    51.7%\n",
       "7460      87%\n",
       "7461    72.4%\n",
       "7462      33%\n",
       "7463    97.3%\n",
       "Name: revol_util, Length: 49995, dtype: object"
      ]
     },
     "execution_count": 54,
     "metadata": {},
     "output_type": "execute_result"
    }
   ],
   "source": [
    "#Exploring 'revol_util' values\n",
    "alt_loans['revol_util']"
   ]
  },
  {
   "cell_type": "code",
   "execution_count": 55,
   "metadata": {},
   "outputs": [],
   "source": [
    "#Addressing 'revol_util' values\n",
    "alt_loans['revol_util'] = [float(x.strip('%')) for x in alt_loans['revol_util']]"
   ]
  },
  {
   "cell_type": "code",
   "execution_count": 56,
   "metadata": {},
   "outputs": [
    {
     "data": {
      "text/plain": [
       "0       83.7\n",
       "1        9.4\n",
       "2       98.5\n",
       "3       21.0\n",
       "4       53.9\n",
       "        ... \n",
       "7459    51.7\n",
       "7460    87.0\n",
       "7461    72.4\n",
       "7462    33.0\n",
       "7463    97.3\n",
       "Name: revol_util, Length: 49995, dtype: float64"
      ]
     },
     "execution_count": 56,
     "metadata": {},
     "output_type": "execute_result"
    }
   ],
   "source": [
    "#Verifying 'revol_util' changes\n",
    "alt_loans['revol_util']"
   ]
  },
  {
   "cell_type": "markdown",
   "metadata": {},
   "source": [
    "<p style=\"text-align: left;\"> \n",
    "After addressing our categorical features we will recheck what features now fall into which categories.\n",
    "</p>"
   ]
  },
  {
   "cell_type": "code",
   "execution_count": 57,
   "metadata": {},
   "outputs": [
    {
     "data": {
      "text/plain": [
       "['term',\n",
       " 'grade',\n",
       " 'emp_length',\n",
       " 'home_ownership',\n",
       " 'loan_status',\n",
       " 'pymnt_plan',\n",
       " 'purpose']"
      ]
     },
     "metadata": {},
     "output_type": "display_data"
    },
    {
     "data": {
      "text/plain": [
       "['loan_amnt',\n",
       " 'funded_amnt',\n",
       " 'funded_amnt_inv',\n",
       " 'int_rate',\n",
       " 'installment',\n",
       " 'sub_grade',\n",
       " 'annual_inc',\n",
       " 'zip_code',\n",
       " 'addr_state',\n",
       " 'dti',\n",
       " 'fico_range_low',\n",
       " 'fico_range_high',\n",
       " 'inq_last_6mths',\n",
       " 'mths_since_last_delinq',\n",
       " 'mths_since_last_record',\n",
       " 'open_acc',\n",
       " 'pub_rec',\n",
       " 'revol_bal',\n",
       " 'revol_util',\n",
       " 'total_acc',\n",
       " 'total_pymnt',\n",
       " 'last_pymnt_amnt']"
      ]
     },
     "metadata": {},
     "output_type": "display_data"
    }
   ],
   "source": [
    "#Exploring the categorical and numerical features\n",
    "cats_2 = []\n",
    "nums_2 = []\n",
    "for x in alt_loans.columns:\n",
    "    if alt_loans[x].dtype == 'object':\n",
    "        cats_2.append(x)\n",
    "        \n",
    "for x in alt_loans.columns:\n",
    "    if alt_loans[x].dtype != 'object':\n",
    "        nums_2.append(x)        \n",
    "display(cats_2)\n",
    "display(nums_2)"
   ]
  },
  {
   "cell_type": "markdown",
   "metadata": {},
   "source": [
    "<p style=\"text-align: left;\"> \n",
    "As a final check we'll ensure that our categorical features all have acceptable value counts.\n",
    "</p>"
   ]
  },
  {
   "cell_type": "code",
   "execution_count": 58,
   "metadata": {},
   "outputs": [
    {
     "name": "stdout",
     "output_type": "stream",
     "text": [
      "term 2\n",
      "grade 7\n",
      "emp_length 12\n",
      "home_ownership 5\n",
      "loan_status 2\n",
      "pymnt_plan 1\n",
      "purpose 14\n"
     ]
    }
   ],
   "source": [
    "#Exploring the value totals for categorical features\n",
    "for x in range(0, len(cats_2)):\n",
    "    print(cats_2[x], alt_loans[cats_2[x]].value_counts().count())"
   ]
  },
  {
   "cell_type": "markdown",
   "metadata": {},
   "source": [
    "<p style=\"text-align: left;\"> \n",
    "Since we are done with our data preperation and our notebook is getting quite long, we'll save this altered version of the Lending Club dataset and use that for modeling in another notebook.\n",
    "</p>"
   ]
  },
  {
   "cell_type": "code",
   "execution_count": 59,
   "metadata": {},
   "outputs": [],
   "source": [
    "#Saving updated dataset\n",
    "alt_loans.to_csv('C:/Users/russd/Documents/Flatiron/Phase_3/Lending_Club_Loan_Processing/data/alt_loans.csv')"
   ]
  }
 ],
 "metadata": {
  "kernelspec": {
   "display_name": "Python 3",
   "language": "python",
   "name": "python3"
  },
  "language_info": {
   "codemirror_mode": {
    "name": "ipython",
    "version": 3
   },
   "file_extension": ".py",
   "mimetype": "text/x-python",
   "name": "python",
   "nbconvert_exporter": "python",
   "pygments_lexer": "ipython3",
   "version": "3.8.5"
  }
 },
 "nbformat": 4,
 "nbformat_minor": 4
}
