{
 "cells": [
  {
   "cell_type": "markdown",
   "metadata": {},
   "source": [
    "## Modeling"
   ]
  },
  {
   "cell_type": "markdown",
   "metadata": {},
   "source": [
    "### Model Setup"
   ]
  },
  {
   "cell_type": "markdown",
   "metadata": {},
   "source": [
    "<p style=\"text-align: left;\"> \n",
    "Before we begin modeling there are some tasks that we need to carry out in order for the models to work properly.  We'll begin by loading our libraries, after that we'll load our prepped dataset, then the categorical features will need to be one-hot encoded, and finally we'll be ready to split our dataset for modeling.\n",
    "</p>"
   ]
  },
  {
   "cell_type": "code",
   "execution_count": 1,
   "metadata": {},
   "outputs": [],
   "source": [
    "import pandas as pd\n",
    "import matplotlib.pyplot as plt\n",
    "from sklearn.model_selection import train_test_split\n",
    "from sklearn.linear_model import LogisticRegression\n",
    "import numpy as np\n",
    "from sklearn.metrics import accuracy_score, confusion_matrix, ConfusionMatrixDisplay, classification_report, f1_score, precision_score\n",
    "from sklearn.ensemble import RandomForestClassifier\n",
    "from sklearn.model_selection import GridSearchCV\n",
    "from sklearn.preprocessing import LabelEncoder\n",
    "from xgboost import XGBClassifier\n",
    "from sklearn.preprocessing import OneHotEncoder"
   ]
  },
  {
   "cell_type": "markdown",
   "metadata": {},
   "source": [
    "<p style=\"text-align: left;\"> \n",
    "With our needed libraries loaded we can load our dataset and examine the data to ensure the data loaded properly.\n",
    "</p>"
   ]
  },
  {
   "cell_type": "code",
   "execution_count": 2,
   "metadata": {},
   "outputs": [
    {
     "data": {
      "text/html": [
       "<div>\n",
       "<style scoped>\n",
       "    .dataframe tbody tr th:only-of-type {\n",
       "        vertical-align: middle;\n",
       "    }\n",
       "\n",
       "    .dataframe tbody tr th {\n",
       "        vertical-align: top;\n",
       "    }\n",
       "\n",
       "    .dataframe thead th {\n",
       "        text-align: right;\n",
       "    }\n",
       "</style>\n",
       "<table border=\"1\" class=\"dataframe\">\n",
       "  <thead>\n",
       "    <tr style=\"text-align: right;\">\n",
       "      <th></th>\n",
       "      <th>loan_amnt</th>\n",
       "      <th>funded_amnt</th>\n",
       "      <th>funded_amnt_inv</th>\n",
       "      <th>term</th>\n",
       "      <th>int_rate</th>\n",
       "      <th>installment</th>\n",
       "      <th>grade</th>\n",
       "      <th>sub_grade</th>\n",
       "      <th>emp_length</th>\n",
       "      <th>home_ownership</th>\n",
       "      <th>...</th>\n",
       "      <th>inq_last_6mths</th>\n",
       "      <th>mths_since_last_delinq</th>\n",
       "      <th>mths_since_last_record</th>\n",
       "      <th>open_acc</th>\n",
       "      <th>pub_rec</th>\n",
       "      <th>revol_bal</th>\n",
       "      <th>revol_util</th>\n",
       "      <th>total_acc</th>\n",
       "      <th>total_pymnt</th>\n",
       "      <th>last_pymnt_amnt</th>\n",
       "    </tr>\n",
       "  </thead>\n",
       "  <tbody>\n",
       "    <tr>\n",
       "      <th>0</th>\n",
       "      <td>5000.0</td>\n",
       "      <td>5000.0</td>\n",
       "      <td>4975.0</td>\n",
       "      <td>36 months</td>\n",
       "      <td>10.65</td>\n",
       "      <td>162.87</td>\n",
       "      <td>B</td>\n",
       "      <td>0</td>\n",
       "      <td>gt10 years</td>\n",
       "      <td>RENT</td>\n",
       "      <td>...</td>\n",
       "      <td>1.0</td>\n",
       "      <td>35.0</td>\n",
       "      <td>63.0</td>\n",
       "      <td>3.0</td>\n",
       "      <td>0.0</td>\n",
       "      <td>13648.0</td>\n",
       "      <td>83.7</td>\n",
       "      <td>9.0</td>\n",
       "      <td>5863.155187</td>\n",
       "      <td>171.62</td>\n",
       "    </tr>\n",
       "    <tr>\n",
       "      <th>1</th>\n",
       "      <td>2500.0</td>\n",
       "      <td>2500.0</td>\n",
       "      <td>2500.0</td>\n",
       "      <td>60 months</td>\n",
       "      <td>15.27</td>\n",
       "      <td>59.83</td>\n",
       "      <td>C</td>\n",
       "      <td>1</td>\n",
       "      <td>lt1 year</td>\n",
       "      <td>RENT</td>\n",
       "      <td>...</td>\n",
       "      <td>5.0</td>\n",
       "      <td>35.0</td>\n",
       "      <td>63.0</td>\n",
       "      <td>3.0</td>\n",
       "      <td>0.0</td>\n",
       "      <td>1687.0</td>\n",
       "      <td>9.4</td>\n",
       "      <td>4.0</td>\n",
       "      <td>1014.530000</td>\n",
       "      <td>119.66</td>\n",
       "    </tr>\n",
       "    <tr>\n",
       "      <th>2</th>\n",
       "      <td>2400.0</td>\n",
       "      <td>2400.0</td>\n",
       "      <td>2400.0</td>\n",
       "      <td>36 months</td>\n",
       "      <td>15.96</td>\n",
       "      <td>84.33</td>\n",
       "      <td>C</td>\n",
       "      <td>2</td>\n",
       "      <td>gt10 years</td>\n",
       "      <td>RENT</td>\n",
       "      <td>...</td>\n",
       "      <td>2.0</td>\n",
       "      <td>35.0</td>\n",
       "      <td>63.0</td>\n",
       "      <td>2.0</td>\n",
       "      <td>0.0</td>\n",
       "      <td>2956.0</td>\n",
       "      <td>98.5</td>\n",
       "      <td>10.0</td>\n",
       "      <td>3005.666844</td>\n",
       "      <td>649.91</td>\n",
       "    </tr>\n",
       "    <tr>\n",
       "      <th>3</th>\n",
       "      <td>10000.0</td>\n",
       "      <td>10000.0</td>\n",
       "      <td>10000.0</td>\n",
       "      <td>36 months</td>\n",
       "      <td>13.49</td>\n",
       "      <td>339.31</td>\n",
       "      <td>C</td>\n",
       "      <td>3</td>\n",
       "      <td>gt10 years</td>\n",
       "      <td>RENT</td>\n",
       "      <td>...</td>\n",
       "      <td>1.0</td>\n",
       "      <td>35.0</td>\n",
       "      <td>63.0</td>\n",
       "      <td>10.0</td>\n",
       "      <td>0.0</td>\n",
       "      <td>5598.0</td>\n",
       "      <td>21.0</td>\n",
       "      <td>37.0</td>\n",
       "      <td>12231.890000</td>\n",
       "      <td>357.48</td>\n",
       "    </tr>\n",
       "    <tr>\n",
       "      <th>4</th>\n",
       "      <td>3000.0</td>\n",
       "      <td>3000.0</td>\n",
       "      <td>3000.0</td>\n",
       "      <td>60 months</td>\n",
       "      <td>12.69</td>\n",
       "      <td>67.79</td>\n",
       "      <td>B</td>\n",
       "      <td>4</td>\n",
       "      <td>1 year</td>\n",
       "      <td>RENT</td>\n",
       "      <td>...</td>\n",
       "      <td>0.0</td>\n",
       "      <td>38.0</td>\n",
       "      <td>63.0</td>\n",
       "      <td>15.0</td>\n",
       "      <td>0.0</td>\n",
       "      <td>27783.0</td>\n",
       "      <td>53.9</td>\n",
       "      <td>38.0</td>\n",
       "      <td>4066.908161</td>\n",
       "      <td>67.30</td>\n",
       "    </tr>\n",
       "  </tbody>\n",
       "</table>\n",
       "<p>5 rows × 29 columns</p>\n",
       "</div>"
      ],
      "text/plain": [
       "   loan_amnt  funded_amnt  funded_amnt_inv        term  int_rate  installment  \\\n",
       "0     5000.0       5000.0           4975.0   36 months     10.65       162.87   \n",
       "1     2500.0       2500.0           2500.0   60 months     15.27        59.83   \n",
       "2     2400.0       2400.0           2400.0   36 months     15.96        84.33   \n",
       "3    10000.0      10000.0          10000.0   36 months     13.49       339.31   \n",
       "4     3000.0       3000.0           3000.0   60 months     12.69        67.79   \n",
       "\n",
       "  grade  sub_grade  emp_length home_ownership  ...  inq_last_6mths  \\\n",
       "0     B          0  gt10 years           RENT  ...             1.0   \n",
       "1     C          1    lt1 year           RENT  ...             5.0   \n",
       "2     C          2  gt10 years           RENT  ...             2.0   \n",
       "3     C          3  gt10 years           RENT  ...             1.0   \n",
       "4     B          4      1 year           RENT  ...             0.0   \n",
       "\n",
       "  mths_since_last_delinq mths_since_last_record open_acc  pub_rec  revol_bal  \\\n",
       "0                   35.0                   63.0      3.0      0.0    13648.0   \n",
       "1                   35.0                   63.0      3.0      0.0     1687.0   \n",
       "2                   35.0                   63.0      2.0      0.0     2956.0   \n",
       "3                   35.0                   63.0     10.0      0.0     5598.0   \n",
       "4                   38.0                   63.0     15.0      0.0    27783.0   \n",
       "\n",
       "   revol_util  total_acc   total_pymnt  last_pymnt_amnt  \n",
       "0        83.7        9.0   5863.155187           171.62  \n",
       "1         9.4        4.0   1014.530000           119.66  \n",
       "2        98.5       10.0   3005.666844           649.91  \n",
       "3        21.0       37.0  12231.890000           357.48  \n",
       "4        53.9       38.0   4066.908161            67.30  \n",
       "\n",
       "[5 rows x 29 columns]"
      ]
     },
     "execution_count": 2,
     "metadata": {},
     "output_type": "execute_result"
    }
   ],
   "source": [
    "#Load in preped LC dataset\n",
    "loans = pd.read_csv('C:/Users/russd/Documents/Flatiron/Phase_3/Lending_Club_Loan_Processing/data/alt_loans.csv', index_col=0)\n",
    "loans.head()"
   ]
  },
  {
   "cell_type": "code",
   "execution_count": 3,
   "metadata": {},
   "outputs": [],
   "source": [
    "#Setting target and predictor variables\n",
    "y = loans['loan_status']\n",
    "X = loans.drop('loan_status', axis=1)"
   ]
  },
  {
   "cell_type": "code",
   "execution_count": 4,
   "metadata": {},
   "outputs": [
    {
     "data": {
      "text/html": [
       "<div>\n",
       "<style scoped>\n",
       "    .dataframe tbody tr th:only-of-type {\n",
       "        vertical-align: middle;\n",
       "    }\n",
       "\n",
       "    .dataframe tbody tr th {\n",
       "        vertical-align: top;\n",
       "    }\n",
       "\n",
       "    .dataframe thead th {\n",
       "        text-align: right;\n",
       "    }\n",
       "</style>\n",
       "<table border=\"1\" class=\"dataframe\">\n",
       "  <thead>\n",
       "    <tr style=\"text-align: right;\">\n",
       "      <th></th>\n",
       "      <th>loan_amnt</th>\n",
       "      <th>funded_amnt</th>\n",
       "      <th>funded_amnt_inv</th>\n",
       "      <th>int_rate</th>\n",
       "      <th>installment</th>\n",
       "      <th>sub_grade</th>\n",
       "      <th>annual_inc</th>\n",
       "      <th>zip_code</th>\n",
       "      <th>addr_state</th>\n",
       "      <th>dti</th>\n",
       "      <th>...</th>\n",
       "      <th>purpose_home_improvement</th>\n",
       "      <th>purpose_house</th>\n",
       "      <th>purpose_major_purchase</th>\n",
       "      <th>purpose_medical</th>\n",
       "      <th>purpose_moving</th>\n",
       "      <th>purpose_other</th>\n",
       "      <th>purpose_renewable_energy</th>\n",
       "      <th>purpose_small_business</th>\n",
       "      <th>purpose_vacation</th>\n",
       "      <th>purpose_wedding</th>\n",
       "    </tr>\n",
       "  </thead>\n",
       "  <tbody>\n",
       "    <tr>\n",
       "      <th>0</th>\n",
       "      <td>5000.0</td>\n",
       "      <td>5000.0</td>\n",
       "      <td>4975.0</td>\n",
       "      <td>10.65</td>\n",
       "      <td>162.87</td>\n",
       "      <td>0</td>\n",
       "      <td>24000.0</td>\n",
       "      <td>860</td>\n",
       "      <td>0</td>\n",
       "      <td>27.65</td>\n",
       "      <td>...</td>\n",
       "      <td>0.0</td>\n",
       "      <td>0.0</td>\n",
       "      <td>0.0</td>\n",
       "      <td>0.0</td>\n",
       "      <td>0.0</td>\n",
       "      <td>0.0</td>\n",
       "      <td>0.0</td>\n",
       "      <td>0.0</td>\n",
       "      <td>0.0</td>\n",
       "      <td>0.0</td>\n",
       "    </tr>\n",
       "    <tr>\n",
       "      <th>1</th>\n",
       "      <td>2500.0</td>\n",
       "      <td>2500.0</td>\n",
       "      <td>2500.0</td>\n",
       "      <td>15.27</td>\n",
       "      <td>59.83</td>\n",
       "      <td>1</td>\n",
       "      <td>30000.0</td>\n",
       "      <td>309</td>\n",
       "      <td>1</td>\n",
       "      <td>1.00</td>\n",
       "      <td>...</td>\n",
       "      <td>0.0</td>\n",
       "      <td>0.0</td>\n",
       "      <td>0.0</td>\n",
       "      <td>0.0</td>\n",
       "      <td>0.0</td>\n",
       "      <td>0.0</td>\n",
       "      <td>0.0</td>\n",
       "      <td>0.0</td>\n",
       "      <td>0.0</td>\n",
       "      <td>0.0</td>\n",
       "    </tr>\n",
       "    <tr>\n",
       "      <th>2</th>\n",
       "      <td>2400.0</td>\n",
       "      <td>2400.0</td>\n",
       "      <td>2400.0</td>\n",
       "      <td>15.96</td>\n",
       "      <td>84.33</td>\n",
       "      <td>2</td>\n",
       "      <td>12252.0</td>\n",
       "      <td>606</td>\n",
       "      <td>2</td>\n",
       "      <td>8.72</td>\n",
       "      <td>...</td>\n",
       "      <td>0.0</td>\n",
       "      <td>0.0</td>\n",
       "      <td>0.0</td>\n",
       "      <td>0.0</td>\n",
       "      <td>0.0</td>\n",
       "      <td>0.0</td>\n",
       "      <td>0.0</td>\n",
       "      <td>1.0</td>\n",
       "      <td>0.0</td>\n",
       "      <td>0.0</td>\n",
       "    </tr>\n",
       "    <tr>\n",
       "      <th>3</th>\n",
       "      <td>10000.0</td>\n",
       "      <td>10000.0</td>\n",
       "      <td>10000.0</td>\n",
       "      <td>13.49</td>\n",
       "      <td>339.31</td>\n",
       "      <td>3</td>\n",
       "      <td>49200.0</td>\n",
       "      <td>917</td>\n",
       "      <td>3</td>\n",
       "      <td>20.00</td>\n",
       "      <td>...</td>\n",
       "      <td>0.0</td>\n",
       "      <td>0.0</td>\n",
       "      <td>0.0</td>\n",
       "      <td>0.0</td>\n",
       "      <td>0.0</td>\n",
       "      <td>1.0</td>\n",
       "      <td>0.0</td>\n",
       "      <td>0.0</td>\n",
       "      <td>0.0</td>\n",
       "      <td>0.0</td>\n",
       "    </tr>\n",
       "    <tr>\n",
       "      <th>4</th>\n",
       "      <td>3000.0</td>\n",
       "      <td>3000.0</td>\n",
       "      <td>3000.0</td>\n",
       "      <td>12.69</td>\n",
       "      <td>67.79</td>\n",
       "      <td>4</td>\n",
       "      <td>80000.0</td>\n",
       "      <td>972</td>\n",
       "      <td>4</td>\n",
       "      <td>17.94</td>\n",
       "      <td>...</td>\n",
       "      <td>0.0</td>\n",
       "      <td>0.0</td>\n",
       "      <td>0.0</td>\n",
       "      <td>0.0</td>\n",
       "      <td>0.0</td>\n",
       "      <td>1.0</td>\n",
       "      <td>0.0</td>\n",
       "      <td>0.0</td>\n",
       "      <td>0.0</td>\n",
       "      <td>0.0</td>\n",
       "    </tr>\n",
       "  </tbody>\n",
       "</table>\n",
       "<p>5 rows × 57 columns</p>\n",
       "</div>"
      ],
      "text/plain": [
       "   loan_amnt  funded_amnt  funded_amnt_inv  int_rate  installment  sub_grade  \\\n",
       "0     5000.0       5000.0           4975.0     10.65       162.87          0   \n",
       "1     2500.0       2500.0           2500.0     15.27        59.83          1   \n",
       "2     2400.0       2400.0           2400.0     15.96        84.33          2   \n",
       "3    10000.0      10000.0          10000.0     13.49       339.31          3   \n",
       "4     3000.0       3000.0           3000.0     12.69        67.79          4   \n",
       "\n",
       "   annual_inc  zip_code  addr_state    dti  ...  purpose_home_improvement  \\\n",
       "0     24000.0       860           0  27.65  ...                       0.0   \n",
       "1     30000.0       309           1   1.00  ...                       0.0   \n",
       "2     12252.0       606           2   8.72  ...                       0.0   \n",
       "3     49200.0       917           3  20.00  ...                       0.0   \n",
       "4     80000.0       972           4  17.94  ...                       0.0   \n",
       "\n",
       "   purpose_house  purpose_major_purchase  purpose_medical  purpose_moving  \\\n",
       "0            0.0                     0.0              0.0             0.0   \n",
       "1            0.0                     0.0              0.0             0.0   \n",
       "2            0.0                     0.0              0.0             0.0   \n",
       "3            0.0                     0.0              0.0             0.0   \n",
       "4            0.0                     0.0              0.0             0.0   \n",
       "\n",
       "   purpose_other  purpose_renewable_energy  purpose_small_business  \\\n",
       "0            0.0                       0.0                     0.0   \n",
       "1            0.0                       0.0                     0.0   \n",
       "2            0.0                       0.0                     1.0   \n",
       "3            1.0                       0.0                     0.0   \n",
       "4            1.0                       0.0                     0.0   \n",
       "\n",
       "   purpose_vacation  purpose_wedding  \n",
       "0               0.0              0.0  \n",
       "1               0.0              0.0  \n",
       "2               0.0              0.0  \n",
       "3               0.0              0.0  \n",
       "4               0.0              0.0  \n",
       "\n",
       "[5 rows x 57 columns]"
      ]
     },
     "execution_count": 4,
     "metadata": {},
     "output_type": "execute_result"
    }
   ],
   "source": [
    "#One-Hot encoding categorical features\n",
    "X_scaled = pd.get_dummies(X, drop_first=True, dtype=float)\n",
    "X_scaled.head()"
   ]
  },
  {
   "cell_type": "code",
   "execution_count": 5,
   "metadata": {},
   "outputs": [],
   "source": [
    "#Spliting dataset\n",
    "X_train, X_test, y_train, y_test = train_test_split(X_scaled, y, random_state=42)"
   ]
  },
  {
   "cell_type": "markdown",
   "metadata": {},
   "source": [
    "<p style=\"text-align: left;\"> \n",
    "Our target feature values are currently in the form of \"Fully Paid\" or \"Charged Off\".  Some of our models and evaluation classes need these values to be in numerical form. Therefore we'll need to encode them.\n",
    "</p>"
   ]
  },
  {
   "cell_type": "code",
   "execution_count": 6,
   "metadata": {},
   "outputs": [],
   "source": [
    "#Encoding target feature\n",
    "lb_enc = LabelEncoder()\n",
    "\n",
    "y_train = pd.Series(lb_enc.fit_transform(y_train))\n",
    "\n",
    "y_test = pd.Series(lb_enc.transform(y_test))"
   ]
  },
  {
   "cell_type": "markdown",
   "metadata": {},
   "source": [
    "<p style=\"text-align: left;\"> \n",
    "We'll look at three differnt models and move forward with the one that performs the best.  The models will be Logistic Regression, Random Forest, and Xgbost.\n",
    "</p>"
   ]
  },
  {
   "cell_type": "markdown",
   "metadata": {},
   "source": [
    "### Logistic Regression Model"
   ]
  },
  {
   "cell_type": "code",
   "execution_count": 7,
   "metadata": {},
   "outputs": [
    {
     "data": {
      "text/plain": [
       "LogisticRegression(max_iter=10000)"
      ]
     },
     "execution_count": 7,
     "metadata": {},
     "output_type": "execute_result"
    }
   ],
   "source": [
    "#Instantiating logreg variable\n",
    "logreg = LogisticRegression(max_iter=10000)\n",
    "model_log = logreg.fit(X_train, y_train)\n",
    "model_log"
   ]
  },
  {
   "cell_type": "code",
   "execution_count": 8,
   "metadata": {},
   "outputs": [],
   "source": [
    "#Making Logistic Regression predictions\n",
    "log_y_hat_train = logreg.predict(X_train)\n",
    "log_y_hat_test = logreg.predict(X_test)"
   ]
  },
  {
   "cell_type": "code",
   "execution_count": 9,
   "metadata": {},
   "outputs": [
    {
     "name": "stdout",
     "output_type": "stream",
     "text": [
      "True     36445\n",
      "False     1051\n",
      "dtype: int64\n",
      "------------------------------------\n",
      "True     0.97197\n",
      "False    0.02803\n",
      "dtype: float64\n"
     ]
    }
   ],
   "source": [
    "#Training accuracy\n",
    "residuals_train = np.abs(y_train == log_y_hat_train)\n",
    "print(pd.Series(residuals_train).value_counts())\n",
    "print('------------------------------------')\n",
    "print(pd.Series(residuals_train).value_counts(normalize=True))"
   ]
  },
  {
   "cell_type": "code",
   "execution_count": 10,
   "metadata": {},
   "outputs": [
    {
     "name": "stdout",
     "output_type": "stream",
     "text": [
      "True     12150\n",
      "False      349\n",
      "dtype: int64\n",
      "------------------------------------\n",
      "True     0.972078\n",
      "False    0.027922\n",
      "dtype: float64\n"
     ]
    }
   ],
   "source": [
    "#Test accuracy\n",
    "residuals_test = np.abs(y_test == log_y_hat_test)\n",
    "print(pd.Series(residuals_test).value_counts())\n",
    "print('------------------------------------')\n",
    "print(pd.Series(residuals_test).value_counts(normalize=True))"
   ]
  },
  {
   "cell_type": "code",
   "execution_count": 11,
   "metadata": {},
   "outputs": [
    {
     "data": {
      "text/plain": [
       "<AxesSubplot:ylabel='Feature'>"
      ]
     },
     "execution_count": 11,
     "metadata": {},
     "output_type": "execute_result"
    },
    {
     "data": {
      "image/png": "[encoded data removed]",
      "text/plain": [
       "<Figure size 720x432 with 1 Axes>"
      ]
     },
     "metadata": {
      "needs_background": "light"
     },
     "output_type": "display_data"
    }
   ],
   "source": [
    "#Examining top model features\n",
    "log_coefficients = logreg.coef_[0]\n",
    "\n",
    "log_feature_importance = pd.DataFrame({'Feature': X_train.columns, 'Importance': np.abs(log_coefficients)})\n",
    "log_feature_importance = log_feature_importance.sort_values('Importance', ascending=True)\n",
    "log_feature_importance = log_feature_importance.iloc[-10:]\n",
    "log_feature_importance.plot(x='Feature', y='Importance', kind='barh', figsize=(10, 6))"
   ]
  },
  {
   "cell_type": "code",
   "execution_count": 12,
   "metadata": {},
   "outputs": [
    {
     "name": "stdout",
     "output_type": "stream",
     "text": [
      "              precision    recall  f1-score   support\n",
      "\n",
      "           0       0.96      0.85      0.90      5772\n",
      "           1       0.97      0.99      0.98     31724\n",
      "\n",
      "    accuracy                           0.97     37496\n",
      "   macro avg       0.97      0.92      0.94     37496\n",
      "weighted avg       0.97      0.97      0.97     37496\n",
      "\n"
     ]
    }
   ],
   "source": [
    "#Train classification report\n",
    "print(classification_report(y_train, log_y_hat_train))"
   ]
  },
  {
   "cell_type": "code",
   "execution_count": 13,
   "metadata": {},
   "outputs": [
    {
     "name": "stdout",
     "output_type": "stream",
     "text": [
      "              precision    recall  f1-score   support\n",
      "\n",
      "           0       0.96      0.85      0.90      1825\n",
      "           1       0.97      0.99      0.98     10674\n",
      "\n",
      "    accuracy                           0.97     12499\n",
      "   macro avg       0.97      0.92      0.94     12499\n",
      "weighted avg       0.97      0.97      0.97     12499\n",
      "\n"
     ]
    }
   ],
   "source": [
    "#Test classification report\n",
    "print(classification_report(y_test, log_y_hat_test))"
   ]
  },
  {
   "cell_type": "code",
   "execution_count": 14,
   "metadata": {},
   "outputs": [
    {
     "data": {
      "image/png": "[encoded data removed]",
      "text/plain": [
       "<Figure size 432x288 with 2 Axes>"
      ]
     },
     "metadata": {
      "needs_background": "light"
     },
     "output_type": "display_data"
    }
   ],
   "source": [
    "#Test confusion matrix\n",
    "log_cm = confusion_matrix(y_test, log_y_hat_test)\n",
    "log_cmd = ConfusionMatrixDisplay(confusion_matrix=log_cm)\n",
    "log_cmd.plot()\n",
    "plt.show()"
   ]
  },
  {
   "cell_type": "markdown",
   "metadata": {},
   "source": [
    "### Random Forest Model"
   ]
  },
  {
   "cell_type": "code",
   "execution_count": 15,
   "metadata": {},
   "outputs": [
    {
     "data": {
      "text/plain": [
       "RandomForestClassifier()"
      ]
     },
     "execution_count": 15,
     "metadata": {},
     "output_type": "execute_result"
    }
   ],
   "source": [
    "#Instantiating RandomForest variable\n",
    "rfc = RandomForestClassifier()\n",
    "rfc.fit(X_train, y_train)"
   ]
  },
  {
   "cell_type": "code",
   "execution_count": 16,
   "metadata": {},
   "outputs": [
    {
     "data": {
      "text/plain": [
       "1.0"
      ]
     },
     "execution_count": 16,
     "metadata": {},
     "output_type": "execute_result"
    }
   ],
   "source": [
    "#Training accuracy\n",
    "rfc.score(X_train, y_train)"
   ]
  },
  {
   "cell_type": "code",
   "execution_count": 17,
   "metadata": {},
   "outputs": [
    {
     "data": {
      "text/plain": [
       "0.9617569405552444"
      ]
     },
     "execution_count": 17,
     "metadata": {},
     "output_type": "execute_result"
    }
   ],
   "source": [
    "#Test accuracy\n",
    "rfc.score(X_test, y_test)"
   ]
  },
  {
   "cell_type": "code",
   "execution_count": 18,
   "metadata": {},
   "outputs": [
    {
     "data": {
      "text/plain": [
       "<AxesSubplot:ylabel='Feature'>"
      ]
     },
     "execution_count": 18,
     "metadata": {},
     "output_type": "execute_result"
    },
    {
     "data": {
      "image/png": "[encoded data removed]",
      "text/plain": [
       "<Figure size 720x432 with 1 Axes>"
      ]
     },
     "metadata": {
      "needs_background": "light"
     },
     "output_type": "display_data"
    }
   ],
   "source": [
    "#Examining top model features\n",
    "rf_coefficients = rfc.feature_importances_\n",
    "\n",
    "rf_feature_importance = pd.DataFrame({'Feature': X_train.columns, 'Importance': np.abs(rf_coefficients)})\n",
    "rf_feature_importance = rf_feature_importance.sort_values('Importance', ascending=True)\n",
    "rf_feature_importance = rf_feature_importance.iloc[-10:]\n",
    "rf_feature_importance.plot(x='Feature', y='Importance', kind='barh', figsize=(10, 6))"
   ]
  },
  {
   "cell_type": "code",
   "execution_count": 19,
   "metadata": {},
   "outputs": [],
   "source": [
    "#Making RandomForest predictions\n",
    "rf_y_hat_train = rfc.predict(X_train)\n",
    "rf_y_hat_test = rfc.predict(X_test)"
   ]
  },
  {
   "cell_type": "code",
   "execution_count": 20,
   "metadata": {},
   "outputs": [
    {
     "name": "stdout",
     "output_type": "stream",
     "text": [
      "              precision    recall  f1-score   support\n",
      "\n",
      "           0       1.00      1.00      1.00      5772\n",
      "           1       1.00      1.00      1.00     31724\n",
      "\n",
      "    accuracy                           1.00     37496\n",
      "   macro avg       1.00      1.00      1.00     37496\n",
      "weighted avg       1.00      1.00      1.00     37496\n",
      "\n"
     ]
    }
   ],
   "source": [
    "#Train classification report\n",
    "print(classification_report(y_train, rf_y_hat_train))"
   ]
  },
  {
   "cell_type": "code",
   "execution_count": 21,
   "metadata": {},
   "outputs": [
    {
     "name": "stdout",
     "output_type": "stream",
     "text": [
      "              precision    recall  f1-score   support\n",
      "\n",
      "           0       1.00      0.74      0.85      1825\n",
      "           1       0.96      1.00      0.98     10674\n",
      "\n",
      "    accuracy                           0.96     12499\n",
      "   macro avg       0.98      0.87      0.91     12499\n",
      "weighted avg       0.96      0.96      0.96     12499\n",
      "\n"
     ]
    }
   ],
   "source": [
    "#Test classification report\n",
    "print(classification_report(y_test, rf_y_hat_test))"
   ]
  },
  {
   "cell_type": "code",
   "execution_count": 22,
   "metadata": {},
   "outputs": [
    {
     "data": {
      "image/png": "[encoded data removed]",
      "text/plain": [
       "<Figure size 432x288 with 2 Axes>"
      ]
     },
     "metadata": {
      "needs_background": "light"
     },
     "output_type": "display_data"
    }
   ],
   "source": [
    "#Test confusion matrix\n",
    "rf_cm = confusion_matrix(y_test, rf_y_hat_test)\n",
    "rf_cmd = ConfusionMatrixDisplay(confusion_matrix=rf_cm)\n",
    "rf_cmd.plot()\n",
    "plt.show()"
   ]
  },
  {
   "cell_type": "markdown",
   "metadata": {},
   "source": [
    "### XGBoost Model"
   ]
  },
  {
   "cell_type": "code",
   "execution_count": 23,
   "metadata": {},
   "outputs": [
    {
     "name": "stdout",
     "output_type": "stream",
     "text": [
      "Training Accuracy: 99.81%\n",
      "Validation accuracy: 98.42%\n"
     ]
    }
   ],
   "source": [
    "#Instantiating XGBoost variable and calculating accuracies\n",
    "xgb = XGBClassifier()\n",
    "\n",
    "xgb.fit(X_train, y_train)\n",
    "\n",
    "training_preds = xgb.predict(X_train)\n",
    "test_preds = xgb.predict(X_test)\n",
    "\n",
    "training_accuracy = accuracy_score(y_train, training_preds)\n",
    "test_accuracy = accuracy_score(y_test, test_preds)\n",
    "\n",
    "print('Training Accuracy: {:.4}%'.format(training_accuracy * 100))\n",
    "print('Validation accuracy: {:.4}%'.format(test_accuracy * 100))"
   ]
  },
  {
   "cell_type": "code",
   "execution_count": 24,
   "metadata": {},
   "outputs": [
    {
     "name": "stdout",
     "output_type": "stream",
     "text": [
      "              precision    recall  f1-score   support\n",
      "\n",
      "           0       1.00      0.99      0.99      5772\n",
      "           1       1.00      1.00      1.00     31724\n",
      "\n",
      "    accuracy                           1.00     37496\n",
      "   macro avg       1.00      0.99      1.00     37496\n",
      "weighted avg       1.00      1.00      1.00     37496\n",
      "\n"
     ]
    }
   ],
   "source": [
    "#Train classification report\n",
    "print(classification_report(y_train, training_preds))"
   ]
  },
  {
   "cell_type": "code",
   "execution_count": 25,
   "metadata": {},
   "outputs": [
    {
     "name": "stdout",
     "output_type": "stream",
     "text": [
      "              precision    recall  f1-score   support\n",
      "\n",
      "           0       0.98      0.91      0.94      1825\n",
      "           1       0.98      1.00      0.99     10674\n",
      "\n",
      "    accuracy                           0.98     12499\n",
      "   macro avg       0.98      0.95      0.97     12499\n",
      "weighted avg       0.98      0.98      0.98     12499\n",
      "\n"
     ]
    }
   ],
   "source": [
    "#Test classification report\n",
    "print(classification_report(y_test, test_preds))"
   ]
  },
  {
   "cell_type": "code",
   "execution_count": 26,
   "metadata": {},
   "outputs": [
    {
     "data": {
      "text/plain": [
       "<AxesSubplot:ylabel='Feature'>"
      ]
     },
     "execution_count": 26,
     "metadata": {},
     "output_type": "execute_result"
    },
    {
     "data": {
      "image/png": "[encoded data removed]",
      "text/plain": [
       "<Figure size 720x432 with 1 Axes>"
      ]
     },
     "metadata": {
      "needs_background": "light"
     },
     "output_type": "display_data"
    }
   ],
   "source": [
    "#Examining top model features\n",
    "xgb_coefficients = xgb.feature_importances_\n",
    "\n",
    "xgb_feature_importance = pd.DataFrame({'Feature': X_train.columns, 'Importance': np.abs(xgb_coefficients)})\n",
    "xgb_feature_importance = xgb_feature_importance.sort_values('Importance', ascending=True)\n",
    "xgb_feature_importance = xgb_feature_importance.iloc[-10:]\n",
    "xgb_feature_importance.plot(x='Feature', y='Importance', kind='barh', figsize=(10, 6))"
   ]
  },
  {
   "cell_type": "markdown",
   "metadata": {},
   "source": [
    "<p style=\"text-align: left;\"> \n",
    "Given that our XGBoost model scores better than our logistic model and our random forest model seems to  be overfitting, we'lll move forward with the XGBoost model.\n",
    "</p>"
   ]
  },
  {
   "cell_type": "code",
   "execution_count": 27,
   "metadata": {},
   "outputs": [],
   "source": [
    "#Setting parameter grid\n",
    "xgb_param_grid = {\n",
    "    'learning_rate': [0.3, 0.4, 0.5],\n",
    "    'max_delta_step': [0, 1, 2],\n",
    "    'max_depth': [4, 5, 6],\n",
    "}"
   ]
  },
  {
   "cell_type": "code",
   "execution_count": 28,
   "metadata": {},
   "outputs": [],
   "source": [
    "# Instantiate GridSearchCV variable\n",
    "xgb_grid_search = GridSearchCV(xgb, xgb_param_grid, cv=3, return_train_score=True)"
   ]
  },
  {
   "cell_type": "code",
   "execution_count": 29,
   "metadata": {},
   "outputs": [
    {
     "data": {
      "text/plain": [
       "GridSearchCV(cv=3,\n",
       "             estimator=XGBClassifier(base_score=0.5, booster='gbtree',\n",
       "                                     colsample_bylevel=1, colsample_bynode=1,\n",
       "                                     colsample_bytree=1, gamma=0, gpu_id=-1,\n",
       "                                     importance_type='gain',\n",
       "                                     interaction_constraints='',\n",
       "                                     learning_rate=0.300000012,\n",
       "                                     max_delta_step=0, max_depth=6,\n",
       "                                     min_child_weight=1, missing=nan,\n",
       "                                     monotone_constraints='()',\n",
       "                                     n_estimators=100, n_jobs=0,\n",
       "                                     num_parallel_tree=1, random_state=0,\n",
       "                                     reg_alpha=0, reg_lambda=1,\n",
       "                                     scale_pos_weight=1, subsample=1,\n",
       "                                     tree_method='exact', validate_parameters=1,\n",
       "                                     verbosity=None),\n",
       "             param_grid={'learning_rate': [0.3, 0.4, 0.5],\n",
       "                         'max_delta_step': [0, 1, 2], 'max_depth': [4, 5, 6]},\n",
       "             return_train_score=True)"
      ]
     },
     "execution_count": 29,
     "metadata": {},
     "output_type": "execute_result"
    }
   ],
   "source": [
    "#Fitting Gridsearch variable\n",
    "xgb_grid_search.fit(X_train, y_train)"
   ]
  },
  {
   "cell_type": "code",
   "execution_count": 30,
   "metadata": {},
   "outputs": [],
   "source": [
    "#Gridsearch predictions\n",
    "xg_training_preds = xgb_grid_search.predict(X_train)\n",
    "xg_test_preds = xgb_grid_search.predict(X_test)"
   ]
  },
  {
   "cell_type": "code",
   "execution_count": 31,
   "metadata": {},
   "outputs": [
    {
     "name": "stdout",
     "output_type": "stream",
     "text": [
      "              precision    recall  f1-score   support\n",
      "\n",
      "           0       1.00      0.99      0.99      5772\n",
      "           1       1.00      1.00      1.00     31724\n",
      "\n",
      "    accuracy                           1.00     37496\n",
      "   macro avg       1.00      0.99      1.00     37496\n",
      "weighted avg       1.00      1.00      1.00     37496\n",
      "\n"
     ]
    }
   ],
   "source": [
    "#Train classification report\n",
    "print(classification_report(y_train, xg_training_preds))"
   ]
  },
  {
   "cell_type": "code",
   "execution_count": 32,
   "metadata": {},
   "outputs": [
    {
     "name": "stdout",
     "output_type": "stream",
     "text": [
      "              precision    recall  f1-score   support\n",
      "\n",
      "           0       0.98      0.91      0.94      1825\n",
      "           1       0.98      1.00      0.99     10674\n",
      "\n",
      "    accuracy                           0.98     12499\n",
      "   macro avg       0.98      0.95      0.97     12499\n",
      "weighted avg       0.98      0.98      0.98     12499\n",
      "\n"
     ]
    }
   ],
   "source": [
    "#Test classification report\n",
    "print(classification_report(y_test, xg_test_preds))"
   ]
  },
  {
   "cell_type": "code",
   "execution_count": 33,
   "metadata": {},
   "outputs": [
    {
     "data": {
      "image/png": "[encoded data removed]",
      "text/plain": [
       "<Figure size 432x288 with 2 Axes>"
      ]
     },
     "metadata": {
      "needs_background": "light"
     },
     "output_type": "display_data"
    }
   ],
   "source": [
    "#Test confusion matrix\n",
    "xg_cm = confusion_matrix(y_test, xg_test_preds)\n",
    "xg_cmd = ConfusionMatrixDisplay(confusion_matrix=xg_cm)\n",
    "xg_cmd.plot()\n",
    "plt.show()"
   ]
  },
  {
   "cell_type": "markdown",
   "metadata": {},
   "source": [
    "## Modeling Conclusions"
   ]
  },
  {
   "cell_type": "markdown",
   "metadata": {},
   "source": [
    "<p style=\"text-align: left;\"> \n",
    "After evaluating our models and trying to improve our best performing model, we have a model with an accuracy score of around 98%.  \n",
    "</p>\n",
    "\n",
    "<p style=\"text-align: left;\"> \n",
    "According to our best performing model:\n",
    "</p>\n",
    "<ul>\n",
    "  <li>The true positive rate is 85% (10,648/12,500)</li>\n",
    "  <li>The true negative rate is 13% (1,654/12,500)</li>\n",
    "  <li>The false positive rate is 1% (171/12,500)</li>\n",
    "  <li>The false negative rate is .21% (26/12,500)</li>\n",
    "</ul>\n",
    "\n",
    "<p style=\"text-align: left;\"> \n",
    "Considering that the objective of this project is to find the best features to use when determining if a borrower will pay their loan in full, the false positive rate is important. It would be more damaging for the project, to predict that a borrower will repay their loan but they actually don't repay.  This model had 171 FP predictions which was the lowest for any of our models.   \n",
    "</p>"
   ]
  },
  {
   "cell_type": "markdown",
   "metadata": {},
   "source": [
    "## Recommendations"
   ]
  },
  {
   "cell_type": "markdown",
   "metadata": {},
   "source": [
    "<p style=\"text-align: left;\"> \n",
    "Using our best performing model the top five features Lending Club should be concerned with when considering if a potential borrower will repay their loan or not are the following:\n",
    "</p>\n",
    "<ul>\n",
    "  <li>Is the loan term 60 months?</li>\n",
    "  <li>Consider the amount currently committed to the loan.</li>\n",
    "  <li>Consider the monthly payment for the loan.</li>\n",
    "  <li>Consider the payments recieved so far for the loan.</li>\n",
    "  <li>Consider the last amount recieved as a payment.</li>\n",
    "</ul>"
   ]
  },
  {
   "cell_type": "markdown",
   "metadata": {},
   "source": [
    "## Next Steps"
   ]
  },
  {
   "cell_type": "markdown",
   "metadata": {},
   "source": [
    "<p style=\"text-align: left;\">\n",
    "This project can be improved to more accurately predict borrower behavior by incorporating some improvement techniques.  With this in mind, some potential next steps aimed at improving model performance would be the following:\n",
    "\n",
    " - Use more records: Only using 50,000 records from this dataset is a very small fraction of what is available and different sampling or selection techniques could be beneficial.\n",
    "\n",
    " - Use more features: As stated earlier, in this project we only used 30 of the over 150 features so there may be other features that contribute greatly to borrower behavior.\n",
    "\n",
    " - Apply different model parameters: Each model has many parameters that can be configured to try and produce better predictions.\n",
    "    \n",
    " - Employ different models: Using other machine learning models may result in better results.    \n",
    "</p>"
   ]
  }
 ],
 "metadata": {
  "kernelspec": {
   "display_name": "Python 3",
   "language": "python",
   "name": "python3"
  },
  "language_info": {
   "codemirror_mode": {
    "name": "ipython",
    "version": 3
   },
   "file_extension": ".py",
   "mimetype": "text/x-python",
   "name": "python",
   "nbconvert_exporter": "python",
   "pygments_lexer": "ipython3",
   "version": "3.8.5"
  }
 },
 "nbformat": 4,
 "nbformat_minor": 4
}
